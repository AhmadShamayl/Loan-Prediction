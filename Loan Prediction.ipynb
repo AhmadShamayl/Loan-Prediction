{
 "cells": [
  {
   "cell_type": "markdown",
   "id": "4b5c22eb",
   "metadata": {},
   "source": [
    "# Importing Libraries"
   ]
  },
  {
   "cell_type": "code",
   "execution_count": 166,
   "id": "b87e5fdd",
   "metadata": {},
   "outputs": [
    {
     "name": "stdout",
     "output_type": "stream",
     "text": [
      "Collecting scikit-plot\n",
      "  Downloading scikit_plot-0.3.7-py3-none-any.whl (33 kB)\n",
      "Requirement already satisfied: joblib>=0.10 in c:\\users\\saada\\anaconda3\\lib\\site-packages (from scikit-plot) (1.1.0)\n",
      "Requirement already satisfied: matplotlib>=1.4.0 in c:\\users\\saada\\anaconda3\\lib\\site-packages (from scikit-plot) (3.5.1)\n",
      "Requirement already satisfied: scipy>=0.9 in c:\\users\\saada\\anaconda3\\lib\\site-packages (from scikit-plot) (1.7.3)\n",
      "Requirement already satisfied: scikit-learn>=0.18 in c:\\users\\saada\\anaconda3\\lib\\site-packages (from scikit-plot) (1.0.2)\n",
      "Requirement already satisfied: cycler>=0.10 in c:\\users\\saada\\anaconda3\\lib\\site-packages (from matplotlib>=1.4.0->scikit-plot) (0.11.0)\n",
      "Requirement already satisfied: pillow>=6.2.0 in c:\\users\\saada\\anaconda3\\lib\\site-packages (from matplotlib>=1.4.0->scikit-plot) (9.0.1)\n",
      "Requirement already satisfied: numpy>=1.17 in c:\\users\\saada\\anaconda3\\lib\\site-packages (from matplotlib>=1.4.0->scikit-plot) (1.21.5)\n",
      "Requirement already satisfied: kiwisolver>=1.0.1 in c:\\users\\saada\\anaconda3\\lib\\site-packages (from matplotlib>=1.4.0->scikit-plot) (1.3.2)\n",
      "Requirement already satisfied: packaging>=20.0 in c:\\users\\saada\\anaconda3\\lib\\site-packages (from matplotlib>=1.4.0->scikit-plot) (21.3)\n",
      "Requirement already satisfied: fonttools>=4.22.0 in c:\\users\\saada\\anaconda3\\lib\\site-packages (from matplotlib>=1.4.0->scikit-plot) (4.25.0)\n",
      "Requirement already satisfied: pyparsing>=2.2.1 in c:\\users\\saada\\anaconda3\\lib\\site-packages (from matplotlib>=1.4.0->scikit-plot) (3.0.4)\n",
      "Requirement already satisfied: python-dateutil>=2.7 in c:\\users\\saada\\anaconda3\\lib\\site-packages (from matplotlib>=1.4.0->scikit-plot) (2.8.2)\n",
      "Requirement already satisfied: six>=1.5 in c:\\users\\saada\\anaconda3\\lib\\site-packages (from python-dateutil>=2.7->matplotlib>=1.4.0->scikit-plot) (1.16.0)\n",
      "Requirement already satisfied: threadpoolctl>=2.0.0 in c:\\users\\saada\\anaconda3\\lib\\site-packages (from scikit-learn>=0.18->scikit-plot) (2.2.0)\n",
      "Installing collected packages: scikit-plot\n",
      "Successfully installed scikit-plot-0.3.7\n"
     ]
    }
   ],
   "source": [
    "!pip install scikit-plot"
   ]
  },
  {
   "cell_type": "code",
   "execution_count": 167,
   "id": "7c66bf63",
   "metadata": {},
   "outputs": [],
   "source": [
    "import pandas as pd\n",
    "import numpy as np\n",
    "from sklearn.model_selection import train_test_split\n",
    "from sklearn.decomposition import PCA\n",
    "from sklearn.preprocessing import MinMaxScaler , scale\n",
    "import matplotlib.pyplot as plt\n",
    "import seaborn as sns\n",
    "from scipy.stats import zscore\n",
    "from sklearn.metrics import accuracy_score, confusion_matrix\n",
    "from sklearn import metrics\n",
    "from sklearn.model_selection import KFold, cross_val_score\n",
    "from sklearn import svm\n",
    "import scikitplot as skplt\n",
    "from sklearn.linear_model import LogisticRegression\n",
    "from sklearn.tree import DecisionTreeClassifier\n",
    "from sklearn.ensemble import RandomForestClassifier"
   ]
  },
  {
   "cell_type": "code",
   "execution_count": 2,
   "id": "9733bf0d",
   "metadata": {},
   "outputs": [],
   "source": [
    "# Importing dataset through pd.read_csv function\n",
    "data = pd.read_csv('xl.csv')"
   ]
  },
  {
   "cell_type": "code",
   "execution_count": 3,
   "id": "b6338e32",
   "metadata": {},
   "outputs": [
    {
     "data": {
      "text/html": [
       "<div>\n",
       "<style scoped>\n",
       "    .dataframe tbody tr th:only-of-type {\n",
       "        vertical-align: middle;\n",
       "    }\n",
       "\n",
       "    .dataframe tbody tr th {\n",
       "        vertical-align: top;\n",
       "    }\n",
       "\n",
       "    .dataframe thead th {\n",
       "        text-align: right;\n",
       "    }\n",
       "</style>\n",
       "<table border=\"1\" class=\"dataframe\">\n",
       "  <thead>\n",
       "    <tr style=\"text-align: right;\">\n",
       "      <th></th>\n",
       "      <th>Loan_ID</th>\n",
       "      <th>Gender</th>\n",
       "      <th>Married</th>\n",
       "      <th>Dependents</th>\n",
       "      <th>Education</th>\n",
       "      <th>Self_Employed</th>\n",
       "      <th>ApplicantIncome</th>\n",
       "      <th>CoapplicantIncome</th>\n",
       "      <th>LoanAmount</th>\n",
       "      <th>Loan_Amount_Term</th>\n",
       "      <th>Credit_History</th>\n",
       "      <th>Property_Area</th>\n",
       "      <th>Loan_Status</th>\n",
       "    </tr>\n",
       "  </thead>\n",
       "  <tbody>\n",
       "    <tr>\n",
       "      <th>0</th>\n",
       "      <td>LP001002</td>\n",
       "      <td>Male</td>\n",
       "      <td>No</td>\n",
       "      <td>0</td>\n",
       "      <td>Graduate</td>\n",
       "      <td>No</td>\n",
       "      <td>5849</td>\n",
       "      <td>0.0</td>\n",
       "      <td>NaN</td>\n",
       "      <td>360.0</td>\n",
       "      <td>1.0</td>\n",
       "      <td>Urban</td>\n",
       "      <td>Y</td>\n",
       "    </tr>\n",
       "    <tr>\n",
       "      <th>1</th>\n",
       "      <td>LP001003</td>\n",
       "      <td>Male</td>\n",
       "      <td>Yes</td>\n",
       "      <td>1</td>\n",
       "      <td>Graduate</td>\n",
       "      <td>No</td>\n",
       "      <td>4583</td>\n",
       "      <td>1508.0</td>\n",
       "      <td>128.0</td>\n",
       "      <td>360.0</td>\n",
       "      <td>1.0</td>\n",
       "      <td>Rural</td>\n",
       "      <td>N</td>\n",
       "    </tr>\n",
       "    <tr>\n",
       "      <th>2</th>\n",
       "      <td>LP001005</td>\n",
       "      <td>Male</td>\n",
       "      <td>Yes</td>\n",
       "      <td>0</td>\n",
       "      <td>Graduate</td>\n",
       "      <td>Yes</td>\n",
       "      <td>3000</td>\n",
       "      <td>0.0</td>\n",
       "      <td>66.0</td>\n",
       "      <td>360.0</td>\n",
       "      <td>1.0</td>\n",
       "      <td>Urban</td>\n",
       "      <td>Y</td>\n",
       "    </tr>\n",
       "    <tr>\n",
       "      <th>3</th>\n",
       "      <td>LP001006</td>\n",
       "      <td>Male</td>\n",
       "      <td>Yes</td>\n",
       "      <td>0</td>\n",
       "      <td>Not Graduate</td>\n",
       "      <td>No</td>\n",
       "      <td>2583</td>\n",
       "      <td>2358.0</td>\n",
       "      <td>120.0</td>\n",
       "      <td>360.0</td>\n",
       "      <td>1.0</td>\n",
       "      <td>Urban</td>\n",
       "      <td>Y</td>\n",
       "    </tr>\n",
       "    <tr>\n",
       "      <th>4</th>\n",
       "      <td>LP001008</td>\n",
       "      <td>Male</td>\n",
       "      <td>No</td>\n",
       "      <td>0</td>\n",
       "      <td>Graduate</td>\n",
       "      <td>No</td>\n",
       "      <td>6000</td>\n",
       "      <td>0.0</td>\n",
       "      <td>141.0</td>\n",
       "      <td>360.0</td>\n",
       "      <td>1.0</td>\n",
       "      <td>Urban</td>\n",
       "      <td>Y</td>\n",
       "    </tr>\n",
       "  </tbody>\n",
       "</table>\n",
       "</div>"
      ],
      "text/plain": [
       "    Loan_ID Gender Married Dependents     Education Self_Employed  \\\n",
       "0  LP001002   Male      No          0      Graduate            No   \n",
       "1  LP001003   Male     Yes          1      Graduate            No   \n",
       "2  LP001005   Male     Yes          0      Graduate           Yes   \n",
       "3  LP001006   Male     Yes          0  Not Graduate            No   \n",
       "4  LP001008   Male      No          0      Graduate            No   \n",
       "\n",
       "   ApplicantIncome  CoapplicantIncome  LoanAmount  Loan_Amount_Term  \\\n",
       "0             5849                0.0         NaN             360.0   \n",
       "1             4583             1508.0       128.0             360.0   \n",
       "2             3000                0.0        66.0             360.0   \n",
       "3             2583             2358.0       120.0             360.0   \n",
       "4             6000                0.0       141.0             360.0   \n",
       "\n",
       "   Credit_History Property_Area Loan_Status  \n",
       "0             1.0         Urban           Y  \n",
       "1             1.0         Rural           N  \n",
       "2             1.0         Urban           Y  \n",
       "3             1.0         Urban           Y  \n",
       "4             1.0         Urban           Y  "
      ]
     },
     "execution_count": 3,
     "metadata": {},
     "output_type": "execute_result"
    }
   ],
   "source": [
    "data.head()"
   ]
  },
  {
   "cell_type": "code",
   "execution_count": 4,
   "id": "7506ee23",
   "metadata": {},
   "outputs": [
    {
     "data": {
      "text/plain": [
       "(614, 13)"
      ]
     },
     "execution_count": 4,
     "metadata": {},
     "output_type": "execute_result"
    }
   ],
   "source": [
    "data.shape"
   ]
  },
  {
   "cell_type": "code",
   "execution_count": 5,
   "id": "270f1198",
   "metadata": {},
   "outputs": [
    {
     "data": {
      "text/html": [
       "<div>\n",
       "<style scoped>\n",
       "    .dataframe tbody tr th:only-of-type {\n",
       "        vertical-align: middle;\n",
       "    }\n",
       "\n",
       "    .dataframe tbody tr th {\n",
       "        vertical-align: top;\n",
       "    }\n",
       "\n",
       "    .dataframe thead th {\n",
       "        text-align: right;\n",
       "    }\n",
       "</style>\n",
       "<table border=\"1\" class=\"dataframe\">\n",
       "  <thead>\n",
       "    <tr style=\"text-align: right;\">\n",
       "      <th></th>\n",
       "      <th>ApplicantIncome</th>\n",
       "      <th>CoapplicantIncome</th>\n",
       "      <th>LoanAmount</th>\n",
       "      <th>Loan_Amount_Term</th>\n",
       "      <th>Credit_History</th>\n",
       "    </tr>\n",
       "  </thead>\n",
       "  <tbody>\n",
       "    <tr>\n",
       "      <th>count</th>\n",
       "      <td>614.000000</td>\n",
       "      <td>614.000000</td>\n",
       "      <td>592.000000</td>\n",
       "      <td>600.00000</td>\n",
       "      <td>564.000000</td>\n",
       "    </tr>\n",
       "    <tr>\n",
       "      <th>mean</th>\n",
       "      <td>5403.459283</td>\n",
       "      <td>1621.245798</td>\n",
       "      <td>146.412162</td>\n",
       "      <td>342.00000</td>\n",
       "      <td>0.842199</td>\n",
       "    </tr>\n",
       "    <tr>\n",
       "      <th>std</th>\n",
       "      <td>6109.041673</td>\n",
       "      <td>2926.248369</td>\n",
       "      <td>85.587325</td>\n",
       "      <td>65.12041</td>\n",
       "      <td>0.364878</td>\n",
       "    </tr>\n",
       "    <tr>\n",
       "      <th>min</th>\n",
       "      <td>150.000000</td>\n",
       "      <td>0.000000</td>\n",
       "      <td>9.000000</td>\n",
       "      <td>12.00000</td>\n",
       "      <td>0.000000</td>\n",
       "    </tr>\n",
       "    <tr>\n",
       "      <th>25%</th>\n",
       "      <td>2877.500000</td>\n",
       "      <td>0.000000</td>\n",
       "      <td>100.000000</td>\n",
       "      <td>360.00000</td>\n",
       "      <td>1.000000</td>\n",
       "    </tr>\n",
       "    <tr>\n",
       "      <th>50%</th>\n",
       "      <td>3812.500000</td>\n",
       "      <td>1188.500000</td>\n",
       "      <td>128.000000</td>\n",
       "      <td>360.00000</td>\n",
       "      <td>1.000000</td>\n",
       "    </tr>\n",
       "    <tr>\n",
       "      <th>75%</th>\n",
       "      <td>5795.000000</td>\n",
       "      <td>2297.250000</td>\n",
       "      <td>168.000000</td>\n",
       "      <td>360.00000</td>\n",
       "      <td>1.000000</td>\n",
       "    </tr>\n",
       "    <tr>\n",
       "      <th>max</th>\n",
       "      <td>81000.000000</td>\n",
       "      <td>41667.000000</td>\n",
       "      <td>700.000000</td>\n",
       "      <td>480.00000</td>\n",
       "      <td>1.000000</td>\n",
       "    </tr>\n",
       "  </tbody>\n",
       "</table>\n",
       "</div>"
      ],
      "text/plain": [
       "       ApplicantIncome  CoapplicantIncome  LoanAmount  Loan_Amount_Term  \\\n",
       "count       614.000000         614.000000  592.000000         600.00000   \n",
       "mean       5403.459283        1621.245798  146.412162         342.00000   \n",
       "std        6109.041673        2926.248369   85.587325          65.12041   \n",
       "min         150.000000           0.000000    9.000000          12.00000   \n",
       "25%        2877.500000           0.000000  100.000000         360.00000   \n",
       "50%        3812.500000        1188.500000  128.000000         360.00000   \n",
       "75%        5795.000000        2297.250000  168.000000         360.00000   \n",
       "max       81000.000000       41667.000000  700.000000         480.00000   \n",
       "\n",
       "       Credit_History  \n",
       "count      564.000000  \n",
       "mean         0.842199  \n",
       "std          0.364878  \n",
       "min          0.000000  \n",
       "25%          1.000000  \n",
       "50%          1.000000  \n",
       "75%          1.000000  \n",
       "max          1.000000  "
      ]
     },
     "execution_count": 5,
     "metadata": {},
     "output_type": "execute_result"
    }
   ],
   "source": [
    "data.describe()"
   ]
  },
  {
   "cell_type": "markdown",
   "id": "8ed116e7",
   "metadata": {},
   "source": [
    "# Data Preprocessing"
   ]
  },
  {
   "cell_type": "code",
   "execution_count": 6,
   "id": "5e36299a",
   "metadata": {},
   "outputs": [
    {
     "data": {
      "text/plain": [
       "Loan_ID               0\n",
       "Gender               13\n",
       "Married               3\n",
       "Dependents           15\n",
       "Education             0\n",
       "Self_Employed        32\n",
       "ApplicantIncome       0\n",
       "CoapplicantIncome     0\n",
       "LoanAmount           22\n",
       "Loan_Amount_Term     14\n",
       "Credit_History       50\n",
       "Property_Area         0\n",
       "Loan_Status           0\n",
       "dtype: int64"
      ]
     },
     "execution_count": 6,
     "metadata": {},
     "output_type": "execute_result"
    }
   ],
   "source": [
    "# Checking whether there are some missing values in our dataset or not\n",
    "data.isnull().sum()"
   ]
  },
  {
   "cell_type": "code",
   "execution_count": 7,
   "id": "56f5033b",
   "metadata": {},
   "outputs": [],
   "source": [
    "# Dropping the null values\n",
    "new_data = data.dropna()"
   ]
  },
  {
   "cell_type": "code",
   "execution_count": 8,
   "id": "d03f5c02",
   "metadata": {},
   "outputs": [
    {
     "data": {
      "text/plain": [
       "(480, 13)"
      ]
     },
     "execution_count": 8,
     "metadata": {},
     "output_type": "execute_result"
    }
   ],
   "source": [
    "# After dropping null values we are only left with 480 datapoints\n",
    "new_data.shape"
   ]
  },
  {
   "cell_type": "code",
   "execution_count": 9,
   "id": "30d75058",
   "metadata": {},
   "outputs": [
    {
     "data": {
      "text/html": [
       "<div>\n",
       "<style scoped>\n",
       "    .dataframe tbody tr th:only-of-type {\n",
       "        vertical-align: middle;\n",
       "    }\n",
       "\n",
       "    .dataframe tbody tr th {\n",
       "        vertical-align: top;\n",
       "    }\n",
       "\n",
       "    .dataframe thead th {\n",
       "        text-align: right;\n",
       "    }\n",
       "</style>\n",
       "<table border=\"1\" class=\"dataframe\">\n",
       "  <thead>\n",
       "    <tr style=\"text-align: right;\">\n",
       "      <th></th>\n",
       "      <th>Loan_ID</th>\n",
       "      <th>Gender</th>\n",
       "      <th>Married</th>\n",
       "      <th>Dependents</th>\n",
       "      <th>Education</th>\n",
       "      <th>Self_Employed</th>\n",
       "      <th>ApplicantIncome</th>\n",
       "      <th>CoapplicantIncome</th>\n",
       "      <th>LoanAmount</th>\n",
       "      <th>Loan_Amount_Term</th>\n",
       "      <th>Credit_History</th>\n",
       "      <th>Property_Area</th>\n",
       "      <th>Loan_Status</th>\n",
       "    </tr>\n",
       "  </thead>\n",
       "  <tbody>\n",
       "    <tr>\n",
       "      <th>1</th>\n",
       "      <td>LP001003</td>\n",
       "      <td>Male</td>\n",
       "      <td>Yes</td>\n",
       "      <td>1</td>\n",
       "      <td>Graduate</td>\n",
       "      <td>No</td>\n",
       "      <td>4583</td>\n",
       "      <td>1508.0</td>\n",
       "      <td>128.0</td>\n",
       "      <td>360.0</td>\n",
       "      <td>1.0</td>\n",
       "      <td>Rural</td>\n",
       "      <td>N</td>\n",
       "    </tr>\n",
       "    <tr>\n",
       "      <th>2</th>\n",
       "      <td>LP001005</td>\n",
       "      <td>Male</td>\n",
       "      <td>Yes</td>\n",
       "      <td>0</td>\n",
       "      <td>Graduate</td>\n",
       "      <td>Yes</td>\n",
       "      <td>3000</td>\n",
       "      <td>0.0</td>\n",
       "      <td>66.0</td>\n",
       "      <td>360.0</td>\n",
       "      <td>1.0</td>\n",
       "      <td>Urban</td>\n",
       "      <td>Y</td>\n",
       "    </tr>\n",
       "    <tr>\n",
       "      <th>3</th>\n",
       "      <td>LP001006</td>\n",
       "      <td>Male</td>\n",
       "      <td>Yes</td>\n",
       "      <td>0</td>\n",
       "      <td>Not Graduate</td>\n",
       "      <td>No</td>\n",
       "      <td>2583</td>\n",
       "      <td>2358.0</td>\n",
       "      <td>120.0</td>\n",
       "      <td>360.0</td>\n",
       "      <td>1.0</td>\n",
       "      <td>Urban</td>\n",
       "      <td>Y</td>\n",
       "    </tr>\n",
       "    <tr>\n",
       "      <th>4</th>\n",
       "      <td>LP001008</td>\n",
       "      <td>Male</td>\n",
       "      <td>No</td>\n",
       "      <td>0</td>\n",
       "      <td>Graduate</td>\n",
       "      <td>No</td>\n",
       "      <td>6000</td>\n",
       "      <td>0.0</td>\n",
       "      <td>141.0</td>\n",
       "      <td>360.0</td>\n",
       "      <td>1.0</td>\n",
       "      <td>Urban</td>\n",
       "      <td>Y</td>\n",
       "    </tr>\n",
       "    <tr>\n",
       "      <th>5</th>\n",
       "      <td>LP001011</td>\n",
       "      <td>Male</td>\n",
       "      <td>Yes</td>\n",
       "      <td>2</td>\n",
       "      <td>Graduate</td>\n",
       "      <td>Yes</td>\n",
       "      <td>5417</td>\n",
       "      <td>4196.0</td>\n",
       "      <td>267.0</td>\n",
       "      <td>360.0</td>\n",
       "      <td>1.0</td>\n",
       "      <td>Urban</td>\n",
       "      <td>Y</td>\n",
       "    </tr>\n",
       "  </tbody>\n",
       "</table>\n",
       "</div>"
      ],
      "text/plain": [
       "    Loan_ID Gender Married Dependents     Education Self_Employed  \\\n",
       "1  LP001003   Male     Yes          1      Graduate            No   \n",
       "2  LP001005   Male     Yes          0      Graduate           Yes   \n",
       "3  LP001006   Male     Yes          0  Not Graduate            No   \n",
       "4  LP001008   Male      No          0      Graduate            No   \n",
       "5  LP001011   Male     Yes          2      Graduate           Yes   \n",
       "\n",
       "   ApplicantIncome  CoapplicantIncome  LoanAmount  Loan_Amount_Term  \\\n",
       "1             4583             1508.0       128.0             360.0   \n",
       "2             3000                0.0        66.0             360.0   \n",
       "3             2583             2358.0       120.0             360.0   \n",
       "4             6000                0.0       141.0             360.0   \n",
       "5             5417             4196.0       267.0             360.0   \n",
       "\n",
       "   Credit_History Property_Area Loan_Status  \n",
       "1             1.0         Rural           N  \n",
       "2             1.0         Urban           Y  \n",
       "3             1.0         Urban           Y  \n",
       "4             1.0         Urban           Y  \n",
       "5             1.0         Urban           Y  "
      ]
     },
     "execution_count": 9,
     "metadata": {},
     "output_type": "execute_result"
    }
   ],
   "source": [
    "new_data.head()"
   ]
  },
  {
   "cell_type": "code",
   "execution_count": 10,
   "id": "e90af4de",
   "metadata": {},
   "outputs": [
    {
     "data": {
      "text/plain": [
       "Loan_ID              0\n",
       "Gender               0\n",
       "Married              0\n",
       "Dependents           0\n",
       "Education            0\n",
       "Self_Employed        0\n",
       "ApplicantIncome      0\n",
       "CoapplicantIncome    0\n",
       "LoanAmount           0\n",
       "Loan_Amount_Term     0\n",
       "Credit_History       0\n",
       "Property_Area        0\n",
       "Loan_Status          0\n",
       "dtype: int64"
      ]
     },
     "execution_count": 10,
     "metadata": {},
     "output_type": "execute_result"
    }
   ],
   "source": [
    "new_data.isnull().sum()"
   ]
  },
  {
   "cell_type": "markdown",
   "id": "6ccdb7b8",
   "metadata": {},
   "source": [
    "Data transformation type # 1 (Doing it manually)"
   ]
  },
  {
   "cell_type": "code",
   "execution_count": 11,
   "id": "33311f8b",
   "metadata": {},
   "outputs": [],
   "source": [
    "#replcaing the Labels to 1 and 0 \n",
    "again = new_data.replace({'Loan_Status': {'Y':1 , 'N':0}})"
   ]
  },
  {
   "cell_type": "code",
   "execution_count": 12,
   "id": "d35647b3",
   "metadata": {},
   "outputs": [
    {
     "data": {
      "text/plain": [
       "1    332\n",
       "0    148\n",
       "Name: Loan_Status, dtype: int64"
      ]
     },
     "execution_count": 12,
     "metadata": {},
     "output_type": "execute_result"
    }
   ],
   "source": [
    "again['Loan_Status'].value_counts()"
   ]
  },
  {
   "cell_type": "code",
   "execution_count": 13,
   "id": "fdee51bb",
   "metadata": {},
   "outputs": [
    {
     "data": {
      "text/plain": [
       "0     274\n",
       "2      85\n",
       "1      80\n",
       "3+     41\n",
       "Name: Dependents, dtype: int64"
      ]
     },
     "execution_count": 13,
     "metadata": {},
     "output_type": "execute_result"
    }
   ],
   "source": [
    "again['Dependents'].value_counts()"
   ]
  },
  {
   "cell_type": "code",
   "execution_count": 14,
   "id": "018079bb",
   "metadata": {},
   "outputs": [],
   "source": [
    "Loan_predicting_df = again.replace(to_replace='3+' , value = 4)"
   ]
  },
  {
   "cell_type": "code",
   "execution_count": 15,
   "id": "7a17d1e5",
   "metadata": {},
   "outputs": [
    {
     "data": {
      "text/plain": [
       "0    274\n",
       "2     85\n",
       "1     80\n",
       "4     41\n",
       "Name: Dependents, dtype: int64"
      ]
     },
     "execution_count": 15,
     "metadata": {},
     "output_type": "execute_result"
    }
   ],
   "source": [
    "Loan_predicting_df['Dependents'].value_counts()"
   ]
  },
  {
   "cell_type": "code",
   "execution_count": 16,
   "id": "9b76e445",
   "metadata": {},
   "outputs": [],
   "source": [
    "#replacing the categorical data into numerical manually\n",
    "replaced_dataset = Loan_predicting_df.replace({'Gender' : {'Male' : 1 , 'Female' : 0} , \n",
    "                    'Married': {'Yes' :1 , 'No':0 } , \n",
    "                    'Self_Employed' : {'Yes' : 1 , 'No' : 0} , \n",
    "                    'Education'  : {'Graduate' : 1 , \"Not Graduate\" : 0} , \n",
    "                    'Property_Area' : {'Rural' : 0 , \"Semiurban\" : 1 , 'Urban' : 2} })"
   ]
  },
  {
   "cell_type": "code",
   "execution_count": 17,
   "id": "2f5307f4",
   "metadata": {},
   "outputs": [],
   "source": [
    "mydata = replaced_dataset.drop(columns = 'Loan_ID' , axis =1)"
   ]
  },
  {
   "cell_type": "markdown",
   "id": "b3169511",
   "metadata": {},
   "source": [
    "Correlating the data"
   ]
  },
  {
   "cell_type": "code",
   "execution_count": 18,
   "id": "fb3619e4",
   "metadata": {},
   "outputs": [],
   "source": [
    "#using corr( ) function to correlate the data\n",
    "corrr = mydata.corr()"
   ]
  },
  {
   "cell_type": "code",
   "execution_count": 19,
   "id": "f6bbbbcc",
   "metadata": {},
   "outputs": [
    {
     "data": {
      "image/png": "[encoded data removed]",
      "text/plain": [
       "<Figure size 1008x576 with 2 Axes>"
      ]
     },
     "metadata": {
      "needs_background": "light"
     },
     "output_type": "display_data"
    }
   ],
   "source": [
    "plt.figure(figsize=(14,8))\n",
    "sns.heatmap(corrr , fmt=\".1f\" ,annot = True , cbar = True , cmap = 'Blues')\n",
    "plt.show()"
   ]
  },
  {
   "cell_type": "code",
   "execution_count": 20,
   "id": "0f5a0225",
   "metadata": {},
   "outputs": [
    {
     "data": {
      "text/html": [
       "<div>\n",
       "<style scoped>\n",
       "    .dataframe tbody tr th:only-of-type {\n",
       "        vertical-align: middle;\n",
       "    }\n",
       "\n",
       "    .dataframe tbody tr th {\n",
       "        vertical-align: top;\n",
       "    }\n",
       "\n",
       "    .dataframe thead th {\n",
       "        text-align: right;\n",
       "    }\n",
       "</style>\n",
       "<table border=\"1\" class=\"dataframe\">\n",
       "  <thead>\n",
       "    <tr style=\"text-align: right;\">\n",
       "      <th></th>\n",
       "      <th>Gender</th>\n",
       "      <th>Married</th>\n",
       "      <th>Dependents</th>\n",
       "      <th>Education</th>\n",
       "      <th>Self_Employed</th>\n",
       "      <th>ApplicantIncome</th>\n",
       "      <th>CoapplicantIncome</th>\n",
       "      <th>LoanAmount</th>\n",
       "      <th>Loan_Amount_Term</th>\n",
       "      <th>Credit_History</th>\n",
       "      <th>Property_Area</th>\n",
       "      <th>Loan_Status</th>\n",
       "    </tr>\n",
       "  </thead>\n",
       "  <tbody>\n",
       "    <tr>\n",
       "      <th>1</th>\n",
       "      <td>1</td>\n",
       "      <td>1</td>\n",
       "      <td>1</td>\n",
       "      <td>1</td>\n",
       "      <td>0</td>\n",
       "      <td>4583</td>\n",
       "      <td>1508.0</td>\n",
       "      <td>128.0</td>\n",
       "      <td>360.0</td>\n",
       "      <td>1.0</td>\n",
       "      <td>0</td>\n",
       "      <td>0</td>\n",
       "    </tr>\n",
       "    <tr>\n",
       "      <th>2</th>\n",
       "      <td>1</td>\n",
       "      <td>1</td>\n",
       "      <td>0</td>\n",
       "      <td>1</td>\n",
       "      <td>1</td>\n",
       "      <td>3000</td>\n",
       "      <td>0.0</td>\n",
       "      <td>66.0</td>\n",
       "      <td>360.0</td>\n",
       "      <td>1.0</td>\n",
       "      <td>2</td>\n",
       "      <td>1</td>\n",
       "    </tr>\n",
       "    <tr>\n",
       "      <th>3</th>\n",
       "      <td>1</td>\n",
       "      <td>1</td>\n",
       "      <td>0</td>\n",
       "      <td>0</td>\n",
       "      <td>0</td>\n",
       "      <td>2583</td>\n",
       "      <td>2358.0</td>\n",
       "      <td>120.0</td>\n",
       "      <td>360.0</td>\n",
       "      <td>1.0</td>\n",
       "      <td>2</td>\n",
       "      <td>1</td>\n",
       "    </tr>\n",
       "    <tr>\n",
       "      <th>4</th>\n",
       "      <td>1</td>\n",
       "      <td>0</td>\n",
       "      <td>0</td>\n",
       "      <td>1</td>\n",
       "      <td>0</td>\n",
       "      <td>6000</td>\n",
       "      <td>0.0</td>\n",
       "      <td>141.0</td>\n",
       "      <td>360.0</td>\n",
       "      <td>1.0</td>\n",
       "      <td>2</td>\n",
       "      <td>1</td>\n",
       "    </tr>\n",
       "    <tr>\n",
       "      <th>5</th>\n",
       "      <td>1</td>\n",
       "      <td>1</td>\n",
       "      <td>2</td>\n",
       "      <td>1</td>\n",
       "      <td>1</td>\n",
       "      <td>5417</td>\n",
       "      <td>4196.0</td>\n",
       "      <td>267.0</td>\n",
       "      <td>360.0</td>\n",
       "      <td>1.0</td>\n",
       "      <td>2</td>\n",
       "      <td>1</td>\n",
       "    </tr>\n",
       "  </tbody>\n",
       "</table>\n",
       "</div>"
      ],
      "text/plain": [
       "   Gender  Married Dependents  Education  Self_Employed  ApplicantIncome  \\\n",
       "1       1        1          1          1              0             4583   \n",
       "2       1        1          0          1              1             3000   \n",
       "3       1        1          0          0              0             2583   \n",
       "4       1        0          0          1              0             6000   \n",
       "5       1        1          2          1              1             5417   \n",
       "\n",
       "   CoapplicantIncome  LoanAmount  Loan_Amount_Term  Credit_History  \\\n",
       "1             1508.0       128.0             360.0             1.0   \n",
       "2                0.0        66.0             360.0             1.0   \n",
       "3             2358.0       120.0             360.0             1.0   \n",
       "4                0.0       141.0             360.0             1.0   \n",
       "5             4196.0       267.0             360.0             1.0   \n",
       "\n",
       "   Property_Area  Loan_Status  \n",
       "1              0            0  \n",
       "2              2            1  \n",
       "3              2            1  \n",
       "4              2            1  \n",
       "5              2            1  "
      ]
     },
     "execution_count": 20,
     "metadata": {},
     "output_type": "execute_result"
    }
   ],
   "source": [
    "mydata.head()"
   ]
  },
  {
   "cell_type": "code",
   "execution_count": 152,
   "id": "daed2f15",
   "metadata": {},
   "outputs": [],
   "source": [
    "classes = mydata['Loan_Status'].value_counts()"
   ]
  },
  {
   "cell_type": "code",
   "execution_count": 21,
   "id": "f668c1d9",
   "metadata": {},
   "outputs": [],
   "source": [
    "mylabels = mydata.columns"
   ]
  },
  {
   "cell_type": "code",
   "execution_count": 22,
   "id": "9daee5a4",
   "metadata": {},
   "outputs": [],
   "source": [
    "# In X we are droping the label from the dataset\n",
    "# In target we are only taking the label'Loan_Status' attributes\n",
    "X = mydata.drop(columns = 'Loan_Status' , axis = 1)\n",
    "target = mydata['Loan_Status']"
   ]
  },
  {
   "cell_type": "markdown",
   "id": "a4895675",
   "metadata": {},
   "source": [
    "Data transformation type # 2 (Doing it through PCA)"
   ]
  },
  {
   "cell_type": "code",
   "execution_count": 23,
   "id": "a701a235",
   "metadata": {},
   "outputs": [],
   "source": [
    "pca = PCA()"
   ]
  },
  {
   "cell_type": "code",
   "execution_count": 24,
   "id": "006382a1",
   "metadata": {},
   "outputs": [],
   "source": [
    "pca_transformed_data = pca.fit_transform(X)"
   ]
  },
  {
   "cell_type": "code",
   "execution_count": 25,
   "id": "ebf9132e",
   "metadata": {},
   "outputs": [
    {
     "data": {
      "text/plain": [
       "array([[-7.74847022e+02, -1.24313578e+02,  1.46710211e+00, ...,\n",
       "        -3.35581678e-02, -1.16934184e-01,  2.89521380e-02],\n",
       "       [-2.25582952e+03, -1.73334891e+03, -3.07481084e+01, ...,\n",
       "         1.69461527e-01,  8.75786398e-01, -3.13759975e-01],\n",
       "       [-2.82633932e+03,  5.92584877e+02,  1.67763499e+00, ...,\n",
       "        -2.78690507e-01, -6.17061632e-05,  2.14914866e-01],\n",
       "       ...,\n",
       "       [ 2.79064671e+03, -1.15968215e+03,  9.15414375e+01, ...,\n",
       "        -1.36016712e-01, -1.27866476e-01,  6.77835231e-04],\n",
       "       [ 2.31801183e+03, -1.43176853e+03,  4.14528513e+01, ...,\n",
       "        -1.28583603e-01, -1.14350951e-01, -1.20274110e-02],\n",
       "       [-6.75818698e+02, -1.62897545e+03,  1.50271855e+01, ...,\n",
       "         1.00489653e+00,  7.18895485e-01, -2.43811051e-02]])"
      ]
     },
     "execution_count": 25,
     "metadata": {},
     "output_type": "execute_result"
    }
   ],
   "source": [
    "pca_transformed_data"
   ]
  },
  {
   "cell_type": "markdown",
   "id": "a696b969",
   "metadata": {},
   "source": [
    "Data transformation type # 3 (Doing it through MinMaxScaler)"
   ]
  },
  {
   "cell_type": "code",
   "execution_count": 26,
   "id": "777220e9",
   "metadata": {},
   "outputs": [],
   "source": [
    "minmaxscalar= MinMaxScaler()"
   ]
  },
  {
   "cell_type": "code",
   "execution_count": 27,
   "id": "c62ff02b",
   "metadata": {},
   "outputs": [],
   "source": [
    "min_max_scalar_transformation_data = minmaxscalar.fit_transform(X)"
   ]
  },
  {
   "cell_type": "code",
   "execution_count": 28,
   "id": "e4cc39f5",
   "metadata": {},
   "outputs": [
    {
     "data": {
      "text/plain": [
       "array([[1.        , 1.        , 0.25      , ..., 0.72972973, 1.        ,\n",
       "        0.        ],\n",
       "       [1.        , 1.        , 0.        , ..., 0.72972973, 1.        ,\n",
       "        1.        ],\n",
       "       [1.        , 1.        , 0.        , ..., 0.72972973, 1.        ,\n",
       "        1.        ],\n",
       "       ...,\n",
       "       [1.        , 1.        , 0.25      , ..., 0.72972973, 1.        ,\n",
       "        1.        ],\n",
       "       [1.        , 1.        , 0.5       , ..., 0.72972973, 1.        ,\n",
       "        1.        ],\n",
       "       [0.        , 0.        , 0.        , ..., 0.72972973, 0.        ,\n",
       "        0.5       ]])"
      ]
     },
     "execution_count": 28,
     "metadata": {},
     "output_type": "execute_result"
    }
   ],
   "source": [
    "min_max_scalar_transformation_data"
   ]
  },
  {
   "cell_type": "markdown",
   "id": "f1caca88",
   "metadata": {},
   "source": [
    "Data transformation type # 4 (Doing it through Unit Vector Scaling)"
   ]
  },
  {
   "cell_type": "code",
   "execution_count": 29,
   "id": "c6828347",
   "metadata": {},
   "outputs": [
    {
     "data": {
      "text/plain": [
       "array([[ 0.46719815,  0.73716237,  0.11235219, ...,  0.41319694,\n",
       "        -1.31886834, -1.49774605],\n",
       "       [ 0.46719815,  0.73716237, -0.70475462, ...,  0.41319694,\n",
       "         1.25977445,  0.66766993],\n",
       "       [ 0.46719815,  0.73716237, -0.70475462, ...,  0.41319694,\n",
       "         1.25977445,  0.66766993],\n",
       "       ...,\n",
       "       [ 0.46719815,  0.73716237,  0.11235219, ...,  0.41319694,\n",
       "         1.25977445,  0.66766993],\n",
       "       [ 0.46719815,  0.73716237,  0.92945899, ...,  0.41319694,\n",
       "         1.25977445,  0.66766993],\n",
       "       [-2.14041943, -1.35655324, -0.70475462, ..., -2.42015348,\n",
       "        -0.02954695, -1.49774605]])"
      ]
     },
     "execution_count": 29,
     "metadata": {},
     "output_type": "execute_result"
    }
   ],
   "source": [
    "unit_vector = scale(mydata)\n",
    "unit_vector"
   ]
  },
  {
   "cell_type": "code",
   "execution_count": 30,
   "id": "c6a61f1b",
   "metadata": {},
   "outputs": [
    {
     "name": "stderr",
     "output_type": "stream",
     "text": [
      "C:\\Users\\saada\\anaconda3\\lib\\site-packages\\seaborn\\_decorators.py:36: FutureWarning: Pass the following variable as a keyword arg: x. From version 0.12, the only valid positional argument will be `data`, and passing other arguments without an explicit keyword will result in an error or misinterpretation.\n",
      "  warnings.warn(\n"
     ]
    },
    {
     "data": {
      "text/plain": [
       "<AxesSubplot:>"
      ]
     },
     "execution_count": 30,
     "metadata": {},
     "output_type": "execute_result"
    },
    {
     "data": {
      "image/png": "[encoded data removed]",
      "text/plain": [
       "<Figure size 432x288 with 1 Axes>"
      ]
     },
     "metadata": {
      "needs_background": "light"
     },
     "output_type": "display_data"
    }
   ],
   "source": [
    "sns.boxplot(unit_vector)"
   ]
  },
  {
   "cell_type": "code",
   "execution_count": 31,
   "id": "8aa2ab14",
   "metadata": {},
   "outputs": [
    {
     "data": {
      "text/plain": [
       "<AxesSubplot:xlabel='Education', ylabel='count'>"
      ]
     },
     "execution_count": 31,
     "metadata": {},
     "output_type": "execute_result"
    },
    {
     "data": {
      "image/png": "[encoded data removed]",
      "text/plain": [
       "<Figure size 432x288 with 1 Axes>"
      ]
     },
     "metadata": {
      "needs_background": "light"
     },
     "output_type": "display_data"
    }
   ],
   "source": [
    "sns.countplot(x = 'Education' , hue = 'Loan_Status' , data = replaced_dataset)"
   ]
  },
  {
   "cell_type": "code",
   "execution_count": 32,
   "id": "8b8ab57b",
   "metadata": {},
   "outputs": [
    {
     "data": {
      "text/plain": [
       "<AxesSubplot:xlabel='Married', ylabel='count'>"
      ]
     },
     "execution_count": 32,
     "metadata": {},
     "output_type": "execute_result"
    },
    {
     "data": {
      "image/png": "[encoded data removed]",
      "text/plain": [
       "<Figure size 432x288 with 1 Axes>"
      ]
     },
     "metadata": {
      "needs_background": "light"
     },
     "output_type": "display_data"
    }
   ],
   "source": [
    "sns.countplot(x = 'Married' , hue = 'Loan_Status' , data = replaced_dataset)"
   ]
  },
  {
   "cell_type": "code",
   "execution_count": 33,
   "id": "fbf6d6e5",
   "metadata": {},
   "outputs": [
    {
     "data": {
      "text/plain": [
       "<AxesSubplot:xlabel='ApplicantIncome', ylabel='count'>"
      ]
     },
     "execution_count": 33,
     "metadata": {},
     "output_type": "execute_result"
    },
    {
     "data": {
      "image/png": "[encoded data removed]",
      "text/plain": [
       "<Figure size 432x288 with 1 Axes>"
      ]
     },
     "metadata": {
      "needs_background": "light"
     },
     "output_type": "display_data"
    }
   ],
   "source": [
    "sns.countplot(x = 'ApplicantIncome' , hue = 'Loan_Status' , data = replaced_dataset)"
   ]
  },
  {
   "cell_type": "code",
   "execution_count": 34,
   "id": "8c75776b",
   "metadata": {},
   "outputs": [
    {
     "data": {
      "text/html": [
       "<div>\n",
       "<style scoped>\n",
       "    .dataframe tbody tr th:only-of-type {\n",
       "        vertical-align: middle;\n",
       "    }\n",
       "\n",
       "    .dataframe tbody tr th {\n",
       "        vertical-align: top;\n",
       "    }\n",
       "\n",
       "    .dataframe thead th {\n",
       "        text-align: right;\n",
       "    }\n",
       "</style>\n",
       "<table border=\"1\" class=\"dataframe\">\n",
       "  <thead>\n",
       "    <tr style=\"text-align: right;\">\n",
       "      <th></th>\n",
       "      <th>Loan_ID</th>\n",
       "      <th>Gender</th>\n",
       "      <th>Married</th>\n",
       "      <th>Dependents</th>\n",
       "      <th>Education</th>\n",
       "      <th>Self_Employed</th>\n",
       "      <th>ApplicantIncome</th>\n",
       "      <th>CoapplicantIncome</th>\n",
       "      <th>LoanAmount</th>\n",
       "      <th>Loan_Amount_Term</th>\n",
       "      <th>Credit_History</th>\n",
       "      <th>Property_Area</th>\n",
       "      <th>Loan_Status</th>\n",
       "    </tr>\n",
       "  </thead>\n",
       "  <tbody>\n",
       "    <tr>\n",
       "      <th>1</th>\n",
       "      <td>LP001003</td>\n",
       "      <td>1</td>\n",
       "      <td>1</td>\n",
       "      <td>1</td>\n",
       "      <td>1</td>\n",
       "      <td>0</td>\n",
       "      <td>4583</td>\n",
       "      <td>1508.0</td>\n",
       "      <td>128.0</td>\n",
       "      <td>360.0</td>\n",
       "      <td>1.0</td>\n",
       "      <td>0</td>\n",
       "      <td>0</td>\n",
       "    </tr>\n",
       "    <tr>\n",
       "      <th>2</th>\n",
       "      <td>LP001005</td>\n",
       "      <td>1</td>\n",
       "      <td>1</td>\n",
       "      <td>0</td>\n",
       "      <td>1</td>\n",
       "      <td>1</td>\n",
       "      <td>3000</td>\n",
       "      <td>0.0</td>\n",
       "      <td>66.0</td>\n",
       "      <td>360.0</td>\n",
       "      <td>1.0</td>\n",
       "      <td>2</td>\n",
       "      <td>1</td>\n",
       "    </tr>\n",
       "    <tr>\n",
       "      <th>3</th>\n",
       "      <td>LP001006</td>\n",
       "      <td>1</td>\n",
       "      <td>1</td>\n",
       "      <td>0</td>\n",
       "      <td>0</td>\n",
       "      <td>0</td>\n",
       "      <td>2583</td>\n",
       "      <td>2358.0</td>\n",
       "      <td>120.0</td>\n",
       "      <td>360.0</td>\n",
       "      <td>1.0</td>\n",
       "      <td>2</td>\n",
       "      <td>1</td>\n",
       "    </tr>\n",
       "    <tr>\n",
       "      <th>4</th>\n",
       "      <td>LP001008</td>\n",
       "      <td>1</td>\n",
       "      <td>0</td>\n",
       "      <td>0</td>\n",
       "      <td>1</td>\n",
       "      <td>0</td>\n",
       "      <td>6000</td>\n",
       "      <td>0.0</td>\n",
       "      <td>141.0</td>\n",
       "      <td>360.0</td>\n",
       "      <td>1.0</td>\n",
       "      <td>2</td>\n",
       "      <td>1</td>\n",
       "    </tr>\n",
       "    <tr>\n",
       "      <th>5</th>\n",
       "      <td>LP001011</td>\n",
       "      <td>1</td>\n",
       "      <td>1</td>\n",
       "      <td>2</td>\n",
       "      <td>1</td>\n",
       "      <td>1</td>\n",
       "      <td>5417</td>\n",
       "      <td>4196.0</td>\n",
       "      <td>267.0</td>\n",
       "      <td>360.0</td>\n",
       "      <td>1.0</td>\n",
       "      <td>2</td>\n",
       "      <td>1</td>\n",
       "    </tr>\n",
       "  </tbody>\n",
       "</table>\n",
       "</div>"
      ],
      "text/plain": [
       "    Loan_ID  Gender  Married Dependents  Education  Self_Employed  \\\n",
       "1  LP001003       1        1          1          1              0   \n",
       "2  LP001005       1        1          0          1              1   \n",
       "3  LP001006       1        1          0          0              0   \n",
       "4  LP001008       1        0          0          1              0   \n",
       "5  LP001011       1        1          2          1              1   \n",
       "\n",
       "   ApplicantIncome  CoapplicantIncome  LoanAmount  Loan_Amount_Term  \\\n",
       "1             4583             1508.0       128.0             360.0   \n",
       "2             3000                0.0        66.0             360.0   \n",
       "3             2583             2358.0       120.0             360.0   \n",
       "4             6000                0.0       141.0             360.0   \n",
       "5             5417             4196.0       267.0             360.0   \n",
       "\n",
       "   Credit_History  Property_Area  Loan_Status  \n",
       "1             1.0              0            0  \n",
       "2             1.0              2            1  \n",
       "3             1.0              2            1  \n",
       "4             1.0              2            1  \n",
       "5             1.0              2            1  "
      ]
     },
     "execution_count": 34,
     "metadata": {},
     "output_type": "execute_result"
    }
   ],
   "source": [
    "replaced_dataset.head()"
   ]
  },
  {
   "cell_type": "code",
   "execution_count": 35,
   "id": "9d09b60f",
   "metadata": {},
   "outputs": [
    {
     "data": {
      "text/plain": [
       "<seaborn.axisgrid.PairGrid at 0x207c61cd280>"
      ]
     },
     "execution_count": 35,
     "metadata": {},
     "output_type": "execute_result"
    },
    {
     "data": {
      "image/png": "[encoded data removed]",
      "text/plain": [
       "<Figure size 1980x1980 with 132 Axes>"
      ]
     },
     "metadata": {
      "needs_background": "light"
     },
     "output_type": "display_data"
    }
   ],
   "source": [
    "sns.pairplot(mydata)"
   ]
  },
  {
   "cell_type": "markdown",
   "id": "d0791bd0",
   "metadata": {},
   "source": [
    "# Manually Transformed data model (SVM)"
   ]
  },
  {
   "cell_type": "code",
   "execution_count": null,
   "id": "9a4e699b",
   "metadata": {},
   "outputs": [],
   "source": []
  },
  {
   "cell_type": "code",
   "execution_count": 36,
   "id": "74386cc6",
   "metadata": {},
   "outputs": [],
   "source": [
    "# Splitting the dataset into testing and training\n",
    "# only 10% of the data we are using for testing\n",
    "X_train , X_test , Y_train , Y_test = train_test_split(X , target  ,  test_size= 0.1)"
   ]
  },
  {
   "cell_type": "code",
   "execution_count": 37,
   "id": "088a5b9c",
   "metadata": {},
   "outputs": [],
   "source": [
    "model = svm.SVC(kernel = 'linear')"
   ]
  },
  {
   "cell_type": "code",
   "execution_count": 38,
   "id": "41e8d9a4",
   "metadata": {},
   "outputs": [
    {
     "data": {
      "text/plain": [
       "SVC(kernel='linear')"
      ]
     },
     "execution_count": 38,
     "metadata": {},
     "output_type": "execute_result"
    }
   ],
   "source": [
    "model.fit(X_train , Y_train)"
   ]
  },
  {
   "cell_type": "code",
   "execution_count": 39,
   "id": "98d52144",
   "metadata": {},
   "outputs": [
    {
     "data": {
      "text/plain": [
       "0.7893518518518519"
      ]
     },
     "execution_count": 39,
     "metadata": {},
     "output_type": "execute_result"
    }
   ],
   "source": [
    "training_prediction = model.predict(X_train)\n",
    "training_accuracy = accuracy_score(training_prediction , Y_train)\n",
    "training_accuracy"
   ]
  },
  {
   "cell_type": "code",
   "execution_count": 40,
   "id": "3d16b56f",
   "metadata": {},
   "outputs": [
    {
     "data": {
      "text/plain": [
       "0.8541666666666666"
      ]
     },
     "execution_count": 40,
     "metadata": {},
     "output_type": "execute_result"
    }
   ],
   "source": [
    "testing_prediction_SVM = model.predict(X_test)\n",
    "testing_accuracy = accuracy_score(testing_prediction_SVM , Y_test)\n",
    "testing_accuracy"
   ]
  },
  {
   "cell_type": "markdown",
   "id": "4c534dbb",
   "metadata": {},
   "source": [
    "**Using K-Folds cross validation to cross validate our model**"
   ]
  },
  {
   "cell_type": "code",
   "execution_count": 41,
   "id": "a2767118",
   "metadata": {},
   "outputs": [],
   "source": [
    "k_folds = KFold(n_splits = 5)\n",
    "\n",
    "scores = cross_val_score(model, X, target, cv = k_folds)"
   ]
  },
  {
   "cell_type": "code",
   "execution_count": 42,
   "id": "0ca52de6",
   "metadata": {},
   "outputs": [
    {
     "data": {
      "text/plain": [
       "array([0.79166667, 0.73958333, 0.78125   , 0.82291667, 0.80208333])"
      ]
     },
     "execution_count": 42,
     "metadata": {},
     "output_type": "execute_result"
    }
   ],
   "source": [
    "scores"
   ]
  },
  {
   "cell_type": "code",
   "execution_count": 43,
   "id": "eed0ebf6",
   "metadata": {},
   "outputs": [
    {
     "data": {
      "text/plain": [
       "array([0.79166667, 0.73958333, 0.78125   , 0.82291667, 0.80208333])"
      ]
     },
     "execution_count": 43,
     "metadata": {},
     "output_type": "execute_result"
    }
   ],
   "source": [
    "score = np.array(scores)\n",
    "score"
   ]
  },
  {
   "cell_type": "code",
   "execution_count": 44,
   "id": "1ba7736b",
   "metadata": {},
   "outputs": [
    {
     "data": {
      "text/plain": [
       "0.7875"
      ]
     },
     "execution_count": 44,
     "metadata": {},
     "output_type": "execute_result"
    }
   ],
   "source": [
    "avg_score = (np.sum(score))/5\n",
    "avg_score"
   ]
  },
  {
   "cell_type": "markdown",
   "id": "e964cbc9",
   "metadata": {},
   "source": [
    " # min_max_scalar_transformation_data Transformed data model (SVM)"
   ]
  },
  {
   "cell_type": "code",
   "execution_count": 45,
   "id": "8213543f",
   "metadata": {},
   "outputs": [],
   "source": [
    "# Splitting the dataset into testing and training\n",
    "# only 10% of the data we are using for testing\n",
    "X_train , X_test , Y_train , Y_test = train_test_split(min_max_scalar_transformation_data , target  ,  test_size= 0.1)"
   ]
  },
  {
   "cell_type": "code",
   "execution_count": 46,
   "id": "6d22d63e",
   "metadata": {},
   "outputs": [],
   "source": [
    "model = svm.SVC(kernel = 'linear')"
   ]
  },
  {
   "cell_type": "code",
   "execution_count": 47,
   "id": "a43a6253",
   "metadata": {},
   "outputs": [
    {
     "data": {
      "text/plain": [
       "SVC(kernel='linear')"
      ]
     },
     "execution_count": 47,
     "metadata": {},
     "output_type": "execute_result"
    }
   ],
   "source": [
    "model.fit(X_train , Y_train)"
   ]
  },
  {
   "cell_type": "code",
   "execution_count": 48,
   "id": "885bd5b3",
   "metadata": {},
   "outputs": [
    {
     "data": {
      "text/plain": [
       "0.8078703703703703"
      ]
     },
     "execution_count": 48,
     "metadata": {},
     "output_type": "execute_result"
    }
   ],
   "source": [
    "training_prediction = model.predict(X_train)\n",
    "training_accuracy = accuracy_score(training_prediction , Y_train)\n",
    "training_accuracy"
   ]
  },
  {
   "cell_type": "code",
   "execution_count": 49,
   "id": "a27789d8",
   "metadata": {},
   "outputs": [
    {
     "data": {
      "text/plain": [
       "0.8125"
      ]
     },
     "execution_count": 49,
     "metadata": {},
     "output_type": "execute_result"
    }
   ],
   "source": [
    "testing_prediction = model.predict(X_test)\n",
    "testing_accuracy = accuracy_score(testing_prediction , Y_test)\n",
    "testing_accuracy"
   ]
  },
  {
   "cell_type": "markdown",
   "id": "40679348",
   "metadata": {},
   "source": [
    "**Using K-Folds cross validation to cross validate our model**"
   ]
  },
  {
   "cell_type": "code",
   "execution_count": 50,
   "id": "4f4894b4",
   "metadata": {},
   "outputs": [],
   "source": [
    "k_folds = KFold(n_splits = 5)\n",
    "\n",
    "scores = cross_val_score(model, min_max_scalar_transformation_data, target, cv = k_folds)"
   ]
  },
  {
   "cell_type": "code",
   "execution_count": 51,
   "id": "efdc43ca",
   "metadata": {},
   "outputs": [
    {
     "data": {
      "text/plain": [
       "array([0.80208333, 0.75      , 0.79166667, 0.85416667, 0.84375   ])"
      ]
     },
     "execution_count": 51,
     "metadata": {},
     "output_type": "execute_result"
    }
   ],
   "source": [
    "scores"
   ]
  },
  {
   "cell_type": "code",
   "execution_count": 52,
   "id": "5d2c8270",
   "metadata": {},
   "outputs": [
    {
     "data": {
      "text/plain": [
       "array([0.80208333, 0.75      , 0.79166667, 0.85416667, 0.84375   ])"
      ]
     },
     "execution_count": 52,
     "metadata": {},
     "output_type": "execute_result"
    }
   ],
   "source": [
    "score = np.array(scores)\n",
    "score"
   ]
  },
  {
   "cell_type": "code",
   "execution_count": 53,
   "id": "15eb3f4c",
   "metadata": {},
   "outputs": [
    {
     "data": {
      "text/plain": [
       "0.8083333333333332"
      ]
     },
     "execution_count": 53,
     "metadata": {},
     "output_type": "execute_result"
    }
   ],
   "source": [
    "avg_score = (np.sum(score))/5\n",
    "avg_score"
   ]
  },
  {
   "cell_type": "markdown",
   "id": "f25d3446",
   "metadata": {},
   "source": [
    "# unit_vector Transformed data model (SVM)"
   ]
  },
  {
   "cell_type": "code",
   "execution_count": 54,
   "id": "4dc128e0",
   "metadata": {},
   "outputs": [],
   "source": [
    "# Splitting the dataset into testing and training\n",
    "# only 10% of the data we are using for testing\n",
    "X_train , X_test , Y_train , Y_test = train_test_split(unit_vector , target  ,  test_size= 0.1)"
   ]
  },
  {
   "cell_type": "code",
   "execution_count": 55,
   "id": "1b1a036f",
   "metadata": {},
   "outputs": [],
   "source": [
    "model = svm.SVC(kernel = 'linear')"
   ]
  },
  {
   "cell_type": "code",
   "execution_count": 56,
   "id": "379c42a1",
   "metadata": {},
   "outputs": [
    {
     "data": {
      "text/plain": [
       "SVC(kernel='linear')"
      ]
     },
     "execution_count": 56,
     "metadata": {},
     "output_type": "execute_result"
    }
   ],
   "source": [
    "model.fit(X_train , Y_train)"
   ]
  },
  {
   "cell_type": "code",
   "execution_count": 57,
   "id": "62830256",
   "metadata": {},
   "outputs": [
    {
     "data": {
      "text/plain": [
       "1.0"
      ]
     },
     "execution_count": 57,
     "metadata": {},
     "output_type": "execute_result"
    }
   ],
   "source": [
    "training_prediction = model.predict(X_train)\n",
    "training_accuracy = accuracy_score(training_prediction , Y_train)\n",
    "training_accuracy"
   ]
  },
  {
   "cell_type": "code",
   "execution_count": 58,
   "id": "20d936ef",
   "metadata": {},
   "outputs": [
    {
     "data": {
      "text/plain": [
       "1.0"
      ]
     },
     "execution_count": 58,
     "metadata": {},
     "output_type": "execute_result"
    }
   ],
   "source": [
    "testing_prediction = model.predict(X_test)\n",
    "testing_accuracy = accuracy_score(testing_prediction , Y_test)\n",
    "testing_accuracy"
   ]
  },
  {
   "cell_type": "markdown",
   "id": "0d654d3a",
   "metadata": {},
   "source": [
    "**Using K-Folds cross validation to cross validate our model**"
   ]
  },
  {
   "cell_type": "code",
   "execution_count": 59,
   "id": "76737a67",
   "metadata": {},
   "outputs": [],
   "source": [
    "k_folds = KFold(n_splits = 5)\n",
    "\n",
    "scores = cross_val_score(model, unit_vector, target, cv = k_folds)"
   ]
  },
  {
   "cell_type": "code",
   "execution_count": 60,
   "id": "7e1f1e1a",
   "metadata": {},
   "outputs": [
    {
     "data": {
      "text/plain": [
       "array([1., 1., 1., 1., 1.])"
      ]
     },
     "execution_count": 60,
     "metadata": {},
     "output_type": "execute_result"
    }
   ],
   "source": [
    "scores"
   ]
  },
  {
   "cell_type": "code",
   "execution_count": 61,
   "id": "76b09f49",
   "metadata": {},
   "outputs": [
    {
     "data": {
      "text/plain": [
       "array([1., 1., 1., 1., 1.])"
      ]
     },
     "execution_count": 61,
     "metadata": {},
     "output_type": "execute_result"
    }
   ],
   "source": [
    "score = np.array(scores)\n",
    "score"
   ]
  },
  {
   "cell_type": "code",
   "execution_count": 62,
   "id": "bef5fe9f",
   "metadata": {},
   "outputs": [
    {
     "data": {
      "text/plain": [
       "1.0"
      ]
     },
     "execution_count": 62,
     "metadata": {},
     "output_type": "execute_result"
    }
   ],
   "source": [
    "avg_score = (np.sum(score))/5\n",
    "avg_score"
   ]
  },
  {
   "cell_type": "markdown",
   "id": "4dc83519",
   "metadata": {},
   "source": [
    "# Manually Transformed data model (Logistic Regression)"
   ]
  },
  {
   "cell_type": "code",
   "execution_count": 63,
   "id": "e36b6056",
   "metadata": {},
   "outputs": [],
   "source": [
    "# Splitting the dataset into testing and training\n",
    "# only 10% of the data we are using for testing\n",
    "X_train , X_test , Y_train , Y_test = train_test_split(X , target  ,  test_size= 0.1)"
   ]
  },
  {
   "cell_type": "code",
   "execution_count": 64,
   "id": "ae517b25",
   "metadata": {},
   "outputs": [],
   "source": [
    "model_log = LogisticRegression()"
   ]
  },
  {
   "cell_type": "code",
   "execution_count": 65,
   "id": "e9b29d89",
   "metadata": {},
   "outputs": [
    {
     "name": "stderr",
     "output_type": "stream",
     "text": [
      "C:\\Users\\saada\\anaconda3\\lib\\site-packages\\sklearn\\linear_model\\_logistic.py:814: ConvergenceWarning: lbfgs failed to converge (status=1):\n",
      "STOP: TOTAL NO. of ITERATIONS REACHED LIMIT.\n",
      "\n",
      "Increase the number of iterations (max_iter) or scale the data as shown in:\n",
      "    https://scikit-learn.org/stable/modules/preprocessing.html\n",
      "Please also refer to the documentation for alternative solver options:\n",
      "    https://scikit-learn.org/stable/modules/linear_model.html#logistic-regression\n",
      "  n_iter_i = _check_optimize_result(\n"
     ]
    },
    {
     "data": {
      "text/plain": [
       "LogisticRegression()"
      ]
     },
     "execution_count": 65,
     "metadata": {},
     "output_type": "execute_result"
    }
   ],
   "source": [
    "model_log.fit(X_train , Y_train)"
   ]
  },
  {
   "cell_type": "code",
   "execution_count": 66,
   "id": "d44804d2",
   "metadata": {},
   "outputs": [
    {
     "data": {
      "text/plain": [
       "0.8055555555555556"
      ]
     },
     "execution_count": 66,
     "metadata": {},
     "output_type": "execute_result"
    }
   ],
   "source": [
    "training_prediction = model_log.predict(X_train)\n",
    "training_accuracy = accuracy_score(training_prediction , Y_train)\n",
    "training_accuracy"
   ]
  },
  {
   "cell_type": "code",
   "execution_count": 67,
   "id": "6f72d11d",
   "metadata": {},
   "outputs": [
    {
     "data": {
      "text/plain": [
       "0.8125"
      ]
     },
     "execution_count": 67,
     "metadata": {},
     "output_type": "execute_result"
    }
   ],
   "source": [
    "testing_prediction_log = model_log.predict(X_test)\n",
    "testing_accuracy = accuracy_score(testing_prediction_log , Y_test)\n",
    "testing_accuracy"
   ]
  },
  {
   "cell_type": "markdown",
   "id": "36a451fc",
   "metadata": {},
   "source": [
    "**Using K-Folds cross validation to cross validate our model**"
   ]
  },
  {
   "cell_type": "code",
   "execution_count": 68,
   "id": "c25f2b66",
   "metadata": {},
   "outputs": [
    {
     "name": "stderr",
     "output_type": "stream",
     "text": [
      "C:\\Users\\saada\\anaconda3\\lib\\site-packages\\sklearn\\linear_model\\_logistic.py:814: ConvergenceWarning: lbfgs failed to converge (status=1):\n",
      "STOP: TOTAL NO. of ITERATIONS REACHED LIMIT.\n",
      "\n",
      "Increase the number of iterations (max_iter) or scale the data as shown in:\n",
      "    https://scikit-learn.org/stable/modules/preprocessing.html\n",
      "Please also refer to the documentation for alternative solver options:\n",
      "    https://scikit-learn.org/stable/modules/linear_model.html#logistic-regression\n",
      "  n_iter_i = _check_optimize_result(\n",
      "C:\\Users\\saada\\anaconda3\\lib\\site-packages\\sklearn\\linear_model\\_logistic.py:814: ConvergenceWarning: lbfgs failed to converge (status=1):\n",
      "STOP: TOTAL NO. of ITERATIONS REACHED LIMIT.\n",
      "\n",
      "Increase the number of iterations (max_iter) or scale the data as shown in:\n",
      "    https://scikit-learn.org/stable/modules/preprocessing.html\n",
      "Please also refer to the documentation for alternative solver options:\n",
      "    https://scikit-learn.org/stable/modules/linear_model.html#logistic-regression\n",
      "  n_iter_i = _check_optimize_result(\n",
      "C:\\Users\\saada\\anaconda3\\lib\\site-packages\\sklearn\\linear_model\\_logistic.py:814: ConvergenceWarning: lbfgs failed to converge (status=1):\n",
      "STOP: TOTAL NO. of ITERATIONS REACHED LIMIT.\n",
      "\n",
      "Increase the number of iterations (max_iter) or scale the data as shown in:\n",
      "    https://scikit-learn.org/stable/modules/preprocessing.html\n",
      "Please also refer to the documentation for alternative solver options:\n",
      "    https://scikit-learn.org/stable/modules/linear_model.html#logistic-regression\n",
      "  n_iter_i = _check_optimize_result(\n",
      "C:\\Users\\saada\\anaconda3\\lib\\site-packages\\sklearn\\linear_model\\_logistic.py:814: ConvergenceWarning: lbfgs failed to converge (status=1):\n",
      "STOP: TOTAL NO. of ITERATIONS REACHED LIMIT.\n",
      "\n",
      "Increase the number of iterations (max_iter) or scale the data as shown in:\n",
      "    https://scikit-learn.org/stable/modules/preprocessing.html\n",
      "Please also refer to the documentation for alternative solver options:\n",
      "    https://scikit-learn.org/stable/modules/linear_model.html#logistic-regression\n",
      "  n_iter_i = _check_optimize_result(\n",
      "C:\\Users\\saada\\anaconda3\\lib\\site-packages\\sklearn\\linear_model\\_logistic.py:814: ConvergenceWarning: lbfgs failed to converge (status=1):\n",
      "STOP: TOTAL NO. of ITERATIONS REACHED LIMIT.\n",
      "\n",
      "Increase the number of iterations (max_iter) or scale the data as shown in:\n",
      "    https://scikit-learn.org/stable/modules/preprocessing.html\n",
      "Please also refer to the documentation for alternative solver options:\n",
      "    https://scikit-learn.org/stable/modules/linear_model.html#logistic-regression\n",
      "  n_iter_i = _check_optimize_result(\n"
     ]
    }
   ],
   "source": [
    "k_folds = KFold(n_splits = 5)\n",
    "\n",
    "scores = cross_val_score(model_log, X, target, cv = k_folds)"
   ]
  },
  {
   "cell_type": "code",
   "execution_count": 69,
   "id": "17bf92c9",
   "metadata": {},
   "outputs": [
    {
     "data": {
      "text/plain": [
       "array([0.80208333, 0.75      , 0.80208333, 0.82291667, 0.76041667])"
      ]
     },
     "execution_count": 69,
     "metadata": {},
     "output_type": "execute_result"
    }
   ],
   "source": [
    "scores"
   ]
  },
  {
   "cell_type": "code",
   "execution_count": 70,
   "id": "d84ae658",
   "metadata": {},
   "outputs": [
    {
     "data": {
      "text/plain": [
       "array([0.80208333, 0.75      , 0.80208333, 0.82291667, 0.76041667])"
      ]
     },
     "execution_count": 70,
     "metadata": {},
     "output_type": "execute_result"
    }
   ],
   "source": [
    "score = np.array(scores)\n",
    "score"
   ]
  },
  {
   "cell_type": "code",
   "execution_count": 71,
   "id": "870a0564",
   "metadata": {},
   "outputs": [
    {
     "data": {
      "text/plain": [
       "0.7875"
      ]
     },
     "execution_count": 71,
     "metadata": {},
     "output_type": "execute_result"
    }
   ],
   "source": [
    "avg_score = (np.sum(score))/5\n",
    "avg_score"
   ]
  },
  {
   "cell_type": "markdown",
   "id": "8c09801d",
   "metadata": {},
   "source": [
    "# MinMax Scaler Normalized data model (Logistic Regression)"
   ]
  },
  {
   "cell_type": "code",
   "execution_count": 72,
   "id": "44383a77",
   "metadata": {},
   "outputs": [],
   "source": [
    "# Splitting the dataset into testing and training\n",
    "# only 10% of the data we are using for testing\n",
    "X_train , X_test , Y_train , Y_test = train_test_split(min_max_scalar_transformation_data , target  ,  test_size= 0.1)"
   ]
  },
  {
   "cell_type": "code",
   "execution_count": 73,
   "id": "0083938a",
   "metadata": {},
   "outputs": [],
   "source": [
    "model_log = LogisticRegression()"
   ]
  },
  {
   "cell_type": "code",
   "execution_count": 74,
   "id": "bffb1a82",
   "metadata": {},
   "outputs": [
    {
     "data": {
      "text/plain": [
       "LogisticRegression()"
      ]
     },
     "execution_count": 74,
     "metadata": {},
     "output_type": "execute_result"
    }
   ],
   "source": [
    "model_log.fit(X_train , Y_train)"
   ]
  },
  {
   "cell_type": "code",
   "execution_count": 75,
   "id": "3d2a7ec6",
   "metadata": {},
   "outputs": [
    {
     "data": {
      "text/plain": [
       "0.8032407407407407"
      ]
     },
     "execution_count": 75,
     "metadata": {},
     "output_type": "execute_result"
    }
   ],
   "source": [
    "training_prediction = model_log.predict(X_train)\n",
    "training_accuracy = accuracy_score(training_prediction , Y_train)\n",
    "training_accuracy"
   ]
  },
  {
   "cell_type": "code",
   "execution_count": 76,
   "id": "96dc8bf4",
   "metadata": {},
   "outputs": [
    {
     "data": {
      "text/plain": [
       "0.8541666666666666"
      ]
     },
     "execution_count": 76,
     "metadata": {},
     "output_type": "execute_result"
    }
   ],
   "source": [
    "testing_prediction_log = model_log.predict(X_test)\n",
    "testing_accuracy = accuracy_score(testing_prediction_log , Y_test)\n",
    "testing_accuracy"
   ]
  },
  {
   "cell_type": "markdown",
   "id": "eb500ba6",
   "metadata": {},
   "source": [
    "**Using K-Folds cross validation to cross validate our model**}"
   ]
  },
  {
   "cell_type": "code",
   "execution_count": 77,
   "id": "bd3fc5bd",
   "metadata": {},
   "outputs": [
    {
     "data": {
      "text/plain": [
       "array([0.80208333, 0.75      , 0.79166667, 0.85416667, 0.82291667])"
      ]
     },
     "execution_count": 77,
     "metadata": {},
     "output_type": "execute_result"
    }
   ],
   "source": [
    "k_folds = KFold(n_splits = 5)\n",
    "\n",
    "scores = cross_val_score(model_log, min_max_scalar_transformation_data, target, cv = k_folds)\n",
    "scores"
   ]
  },
  {
   "cell_type": "code",
   "execution_count": 78,
   "id": "42207533",
   "metadata": {},
   "outputs": [
    {
     "data": {
      "text/plain": [
       "array([0.80208333, 0.75      , 0.79166667, 0.85416667, 0.82291667])"
      ]
     },
     "execution_count": 78,
     "metadata": {},
     "output_type": "execute_result"
    }
   ],
   "source": [
    "score = np.array(scores)\n",
    "score"
   ]
  },
  {
   "cell_type": "code",
   "execution_count": 79,
   "id": "00d0d938",
   "metadata": {},
   "outputs": [
    {
     "data": {
      "text/plain": [
       "0.8041666666666666"
      ]
     },
     "execution_count": 79,
     "metadata": {},
     "output_type": "execute_result"
    }
   ],
   "source": [
    "    avg_score = (np.sum(score))/5\n",
    "avg_score"
   ]
  },
  {
   "cell_type": "markdown",
   "id": "04de20da",
   "metadata": {},
   "source": [
    "# Unit Vector Normalized Model (Logistic Regression)\n"
   ]
  },
  {
   "cell_type": "code",
   "execution_count": 80,
   "id": "2db60263",
   "metadata": {},
   "outputs": [],
   "source": [
    "# Splitting the dataset into testing and training\n",
    "# only 10% of the data we are using for testing\n",
    "X_train , X_test , Y_train , Y_test = train_test_split(unit_vector , target  ,  test_size= 0.1)"
   ]
  },
  {
   "cell_type": "code",
   "execution_count": 81,
   "id": "e366632a",
   "metadata": {},
   "outputs": [],
   "source": [
    "model_log = LogisticRegression()"
   ]
  },
  {
   "cell_type": "code",
   "execution_count": 82,
   "id": "ff128525",
   "metadata": {},
   "outputs": [
    {
     "data": {
      "text/plain": [
       "LogisticRegression()"
      ]
     },
     "execution_count": 82,
     "metadata": {},
     "output_type": "execute_result"
    }
   ],
   "source": [
    "model_log.fit(X_train , Y_train)"
   ]
  },
  {
   "cell_type": "code",
   "execution_count": 83,
   "id": "6e73aa80",
   "metadata": {},
   "outputs": [
    {
     "data": {
      "text/plain": [
       "1.0"
      ]
     },
     "execution_count": 83,
     "metadata": {},
     "output_type": "execute_result"
    }
   ],
   "source": [
    "training_prediction = model_log.predict(X_train)\n",
    "training_accuracy = accuracy_score(training_prediction , Y_train)\n",
    "training_accuracy"
   ]
  },
  {
   "cell_type": "code",
   "execution_count": 84,
   "id": "af8868f3",
   "metadata": {},
   "outputs": [
    {
     "data": {
      "text/plain": [
       "1.0"
      ]
     },
     "execution_count": 84,
     "metadata": {},
     "output_type": "execute_result"
    }
   ],
   "source": [
    "testing_prediction_log = model_log.predict(X_test)\n",
    "testing_accuracy = accuracy_score(testing_prediction_log , Y_test)\n",
    "testing_accuracy"
   ]
  },
  {
   "cell_type": "markdown",
   "id": "5e762a85",
   "metadata": {},
   "source": [
    "**Using K-Folds cross validation to cross validate our model**"
   ]
  },
  {
   "cell_type": "code",
   "execution_count": 85,
   "id": "aa65a528",
   "metadata": {},
   "outputs": [
    {
     "data": {
      "text/plain": [
       "array([1., 1., 1., 1., 1.])"
      ]
     },
     "execution_count": 85,
     "metadata": {},
     "output_type": "execute_result"
    }
   ],
   "source": [
    "k_folds = KFold(n_splits = 5)\n",
    "\n",
    "scores = cross_val_score(model_log, unit_vector, target, cv = k_folds)\n",
    "scores"
   ]
  },
  {
   "cell_type": "code",
   "execution_count": 86,
   "id": "1fe3fd47",
   "metadata": {},
   "outputs": [
    {
     "data": {
      "text/plain": [
       "array([1., 1., 1., 1., 1.])"
      ]
     },
     "execution_count": 86,
     "metadata": {},
     "output_type": "execute_result"
    }
   ],
   "source": [
    "score = np.array(scores)\n",
    "score"
   ]
  },
  {
   "cell_type": "code",
   "execution_count": 87,
   "id": "aeca82ce",
   "metadata": {},
   "outputs": [
    {
     "data": {
      "text/plain": [
       "1.0"
      ]
     },
     "execution_count": 87,
     "metadata": {},
     "output_type": "execute_result"
    }
   ],
   "source": [
    "avg_score = (np.sum(score))/5\n",
    "avg_score"
   ]
  },
  {
   "cell_type": "markdown",
   "id": "e25c539c",
   "metadata": {},
   "source": [
    "# Manually Transformed data model (Decision Tree)"
   ]
  },
  {
   "cell_type": "code",
   "execution_count": 88,
   "id": "172bc4bf",
   "metadata": {},
   "outputs": [],
   "source": [
    "# Splitting the dataset into testing and training\n",
    "# only 10% of the data we are using for testing\n",
    "X_train , X_test , Y_train , Y_test = train_test_split(X , target  ,  test_size= 0.1)"
   ]
  },
  {
   "cell_type": "code",
   "execution_count": 89,
   "id": "0e29b6d4",
   "metadata": {},
   "outputs": [],
   "source": [
    "model_tree = DecisionTreeClassifier()"
   ]
  },
  {
   "cell_type": "code",
   "execution_count": 90,
   "id": "2b87e9eb",
   "metadata": {},
   "outputs": [
    {
     "data": {
      "text/plain": [
       "DecisionTreeClassifier()"
      ]
     },
     "execution_count": 90,
     "metadata": {},
     "output_type": "execute_result"
    }
   ],
   "source": [
    "model_tree.fit(X_train , Y_train)"
   ]
  },
  {
   "cell_type": "code",
   "execution_count": 91,
   "id": "7b9233ee",
   "metadata": {},
   "outputs": [
    {
     "data": {
      "text/plain": [
       "1.0"
      ]
     },
     "execution_count": 91,
     "metadata": {},
     "output_type": "execute_result"
    }
   ],
   "source": [
    "training_prediction = model_tree.predict(X_train)\n",
    "training_accuracy = accuracy_score(training_prediction , Y_train)\n",
    "training_accuracy"
   ]
  },
  {
   "cell_type": "code",
   "execution_count": 92,
   "id": "b62a9cd1",
   "metadata": {},
   "outputs": [
    {
     "data": {
      "text/plain": [
       "0.6666666666666666"
      ]
     },
     "execution_count": 92,
     "metadata": {},
     "output_type": "execute_result"
    }
   ],
   "source": [
    "testing_prediction_tree = model_tree.predict(X_test)\n",
    "testing_accuracy = accuracy_score(testing_prediction_tree , Y_test)\n",
    "testing_accuracy"
   ]
  },
  {
   "cell_type": "markdown",
   "id": "6d8a08c2",
   "metadata": {},
   "source": [
    "**Using K-Folds cross validation to cross validate our model**"
   ]
  },
  {
   "cell_type": "code",
   "execution_count": 93,
   "id": "a2f5c515",
   "metadata": {},
   "outputs": [
    {
     "data": {
      "text/plain": [
       "array([0.70833333, 0.65625   , 0.75      , 0.71875   , 0.75      ])"
      ]
     },
     "execution_count": 93,
     "metadata": {},
     "output_type": "execute_result"
    }
   ],
   "source": [
    "k_folds = KFold(n_splits = 5)\n",
    "\n",
    "scores = cross_val_score(model_tree, X, target, cv = k_folds)\n",
    "scores"
   ]
  },
  {
   "cell_type": "code",
   "execution_count": 94,
   "id": "62c82c04",
   "metadata": {},
   "outputs": [
    {
     "data": {
      "text/plain": [
       "array([0.70833333, 0.65625   , 0.75      , 0.71875   , 0.75      ])"
      ]
     },
     "execution_count": 94,
     "metadata": {},
     "output_type": "execute_result"
    }
   ],
   "source": [
    "score = np.array(scores)\n",
    "score"
   ]
  },
  {
   "cell_type": "code",
   "execution_count": 95,
   "id": "d4b4b386",
   "metadata": {},
   "outputs": [
    {
     "data": {
      "text/plain": [
       "0.7166666666666667"
      ]
     },
     "execution_count": 95,
     "metadata": {},
     "output_type": "execute_result"
    }
   ],
   "source": [
    "avg_score = (np.sum(score))/5\n",
    "avg_score"
   ]
  },
  {
   "cell_type": "markdown",
   "id": "d2c1322c",
   "metadata": {},
   "source": [
    "# MinMax Scaler Normalized data model (Decision Tree)"
   ]
  },
  {
   "cell_type": "code",
   "execution_count": 96,
   "id": "e142d2c3",
   "metadata": {},
   "outputs": [],
   "source": [
    "# Splitting the dataset into testing and training\n",
    "# only 10% of the data we are using for testing\n",
    "X_train , X_test , Y_train , Y_test = train_test_split(min_max_scalar_transformation_data, target  ,  test_size= 0.1)"
   ]
  },
  {
   "cell_type": "code",
   "execution_count": 97,
   "id": "8f271ea5",
   "metadata": {},
   "outputs": [],
   "source": [
    "model_tree = DecisionTreeClassifier()"
   ]
  },
  {
   "cell_type": "code",
   "execution_count": 98,
   "id": "c7aad7f8",
   "metadata": {},
   "outputs": [
    {
     "data": {
      "text/plain": [
       "DecisionTreeClassifier()"
      ]
     },
     "execution_count": 98,
     "metadata": {},
     "output_type": "execute_result"
    }
   ],
   "source": [
    "model_tree.fit(X_train , Y_train)"
   ]
  },
  {
   "cell_type": "code",
   "execution_count": 99,
   "id": "0db5a2a0",
   "metadata": {},
   "outputs": [
    {
     "data": {
      "text/plain": [
       "1.0"
      ]
     },
     "execution_count": 99,
     "metadata": {},
     "output_type": "execute_result"
    }
   ],
   "source": [
    "training_prediction = model_tree.predict(X_train)\n",
    "training_accuracy = accuracy_score(training_prediction , Y_train)\n",
    "training_accuracy"
   ]
  },
  {
   "cell_type": "code",
   "execution_count": 100,
   "id": "425bdc7b",
   "metadata": {},
   "outputs": [
    {
     "data": {
      "text/plain": [
       "0.5833333333333334"
      ]
     },
     "execution_count": 100,
     "metadata": {},
     "output_type": "execute_result"
    }
   ],
   "source": [
    "testing_prediction_tree = model_tree.predict(X_test)\n",
    "testing_accuracy = accuracy_score(testing_prediction_tree , Y_test)\n",
    "testing_accuracy"
   ]
  },
  {
   "cell_type": "markdown",
   "id": "4363945f",
   "metadata": {},
   "source": [
    "**Using K-Folds cross validation to cross validate our model**"
   ]
  },
  {
   "cell_type": "code",
   "execution_count": 101,
   "id": "d993d838",
   "metadata": {},
   "outputs": [
    {
     "data": {
      "text/plain": [
       "array([0.69791667, 0.60416667, 0.79166667, 0.73958333, 0.73958333])"
      ]
     },
     "execution_count": 101,
     "metadata": {},
     "output_type": "execute_result"
    }
   ],
   "source": [
    "k_folds = KFold(n_splits = 5)\n",
    "\n",
    "scores = cross_val_score(model_tree, min_max_scalar_transformation_data, target, cv = k_folds)\n",
    "scores"
   ]
  },
  {
   "cell_type": "code",
   "execution_count": 102,
   "id": "8a903d58",
   "metadata": {},
   "outputs": [
    {
     "data": {
      "text/plain": [
       "array([0.69791667, 0.60416667, 0.79166667, 0.73958333, 0.73958333])"
      ]
     },
     "execution_count": 102,
     "metadata": {},
     "output_type": "execute_result"
    }
   ],
   "source": [
    "score = np.array(scores)\n",
    "score"
   ]
  },
  {
   "cell_type": "code",
   "execution_count": 103,
   "id": "56690601",
   "metadata": {},
   "outputs": [
    {
     "data": {
      "text/plain": [
       "0.7145833333333333"
      ]
     },
     "execution_count": 103,
     "metadata": {},
     "output_type": "execute_result"
    }
   ],
   "source": [
    "avg_score = (np.sum(score))/5\n",
    "avg_score"
   ]
  },
  {
   "cell_type": "markdown",
   "id": "41dc06c1",
   "metadata": {},
   "source": [
    "# Unit Vector Normalized data model (Decision Tree)"
   ]
  },
  {
   "cell_type": "code",
   "execution_count": 104,
   "id": "0097cd4f",
   "metadata": {},
   "outputs": [],
   "source": [
    "# Splitting the dataset into testing and training\n",
    "# only 10% of the data we are using for testing\n",
    "X_train , X_test , Y_train , Y_test = train_test_split(unit_vector , target  ,  test_size= 0.1)"
   ]
  },
  {
   "cell_type": "code",
   "execution_count": 105,
   "id": "987af37d",
   "metadata": {},
   "outputs": [
    {
     "data": {
      "text/plain": [
       "DecisionTreeClassifier()"
      ]
     },
     "execution_count": 105,
     "metadata": {},
     "output_type": "execute_result"
    }
   ],
   "source": [
    "model_tree = DecisionTreeClassifier()\n",
    "model_tree.fit(X_train , Y_train)"
   ]
  },
  {
   "cell_type": "code",
   "execution_count": 106,
   "id": "5605a969",
   "metadata": {},
   "outputs": [
    {
     "data": {
      "text/plain": [
       "1.0"
      ]
     },
     "execution_count": 106,
     "metadata": {},
     "output_type": "execute_result"
    }
   ],
   "source": [
    "training_prediction = model_tree.predict(X_train)\n",
    "training_accuracy = accuracy_score(training_prediction , Y_train)\n",
    "training_accuracy"
   ]
  },
  {
   "cell_type": "code",
   "execution_count": 107,
   "id": "9867dab3",
   "metadata": {},
   "outputs": [
    {
     "data": {
      "text/plain": [
       "1.0"
      ]
     },
     "execution_count": 107,
     "metadata": {},
     "output_type": "execute_result"
    }
   ],
   "source": [
    "testing_prediction_tree = model_tree.predict(X_test)\n",
    "testing_accuracy = accuracy_score(testing_prediction_tree , Y_test)\n",
    "testing_accuracy"
   ]
  },
  {
   "cell_type": "markdown",
   "id": "6e29d293",
   "metadata": {},
   "source": [
    "**Using K-Folds cross validation to cross validate our model**"
   ]
  },
  {
   "cell_type": "code",
   "execution_count": 108,
   "id": "d757c98b",
   "metadata": {},
   "outputs": [
    {
     "data": {
      "text/plain": [
       "array([1., 1., 1., 1., 1.])"
      ]
     },
     "execution_count": 108,
     "metadata": {},
     "output_type": "execute_result"
    }
   ],
   "source": [
    "k_folds = KFold(n_splits = 5)\n",
    "\n",
    "scores = cross_val_score(model_tree, unit_vector, target, cv = k_folds)\n",
    "scores"
   ]
  },
  {
   "cell_type": "code",
   "execution_count": 109,
   "id": "a5c158de",
   "metadata": {},
   "outputs": [
    {
     "data": {
      "text/plain": [
       "array([1., 1., 1., 1., 1.])"
      ]
     },
     "execution_count": 109,
     "metadata": {},
     "output_type": "execute_result"
    }
   ],
   "source": [
    "score = np.array(scores)\n",
    "score"
   ]
  },
  {
   "cell_type": "code",
   "execution_count": 110,
   "id": "d73c16ee",
   "metadata": {},
   "outputs": [
    {
     "data": {
      "text/plain": [
       "1.0"
      ]
     },
     "execution_count": 110,
     "metadata": {},
     "output_type": "execute_result"
    }
   ],
   "source": [
    "avg_score = (np.sum(score))/5\n",
    "avg_score"
   ]
  },
  {
   "cell_type": "markdown",
   "id": "dc3167b9",
   "metadata": {},
   "source": [
    "# CONFUSION MATRIX (SVM)"
   ]
  },
  {
   "cell_type": "code",
   "execution_count": 111,
   "id": "46f1b408",
   "metadata": {},
   "outputs": [
    {
     "data": {
      "text/plain": [
       "Text(91.68, 0.5, 'Predicted Class')"
      ]
     },
     "execution_count": 111,
     "metadata": {},
     "output_type": "execute_result"
    },
    {
     "data": {
      "image/png": "[encoded data removed]",
      "text/plain": [
       "<Figure size 432x288 with 1 Axes>"
      ]
     },
     "metadata": {
      "needs_background": "light"
     },
     "output_type": "display_data"
    }
   ],
   "source": [
    "mat = confusion_matrix(testing_prediction_SVM , Y_test)\n",
    "sns.heatmap(mat.T , square=True , annot=True , fmt = 'd' , cbar=False)\n",
    "plt.title('CONFUSSION MATRIX')\n",
    "plt.xlabel('True Class')\n",
    "plt.ylabel('Predicted Class')"
   ]
  },
  {
   "cell_type": "markdown",
   "id": "146cf805",
   "metadata": {},
   "source": [
    "# CONFUSION MATRIX (LOGISTIC)"
   ]
  },
  {
   "cell_type": "code",
   "execution_count": 112,
   "id": "806cc3f2",
   "metadata": {},
   "outputs": [
    {
     "data": {
      "text/plain": [
       "Text(91.68, 0.5, 'Predicted Class')"
      ]
     },
     "execution_count": 112,
     "metadata": {},
     "output_type": "execute_result"
    },
    {
     "data": {
      "image/png": "[encoded data removed]",
      "text/plain": [
       "<Figure size 432x288 with 1 Axes>"
      ]
     },
     "metadata": {
      "needs_background": "light"
     },
     "output_type": "display_data"
    }
   ],
   "source": [
    "mat = confusion_matrix(testing_prediction_log , Y_test)\n",
    "sns.heatmap(mat.T , square=True , annot=True , fmt = 'd' , cbar=False)\n",
    "plt.title('CONFUSSION MATRIX')\n",
    "plt.xlabel('True Class')\n",
    "plt.ylabel('Predicted Class')"
   ]
  },
  {
   "cell_type": "markdown",
   "id": "25323f27",
   "metadata": {},
   "source": [
    "# CONFUSION MATRIX (Decision Tree)"
   ]
  },
  {
   "cell_type": "code",
   "execution_count": 113,
   "id": "a81a5a8f",
   "metadata": {},
   "outputs": [
    {
     "data": {
      "text/plain": [
       "Text(91.68, 0.5, 'Predicted Class')"
      ]
     },
     "execution_count": 113,
     "metadata": {},
     "output_type": "execute_result"
    },
    {
     "data": {
      "image/png": "[encoded data removed]",
      "text/plain": [
       "<Figure size 432x288 with 1 Axes>"
      ]
     },
     "metadata": {
      "needs_background": "light"
     },
     "output_type": "display_data"
    }
   ],
   "source": [
    "mat = confusion_matrix(testing_prediction_tree , Y_test)\n",
    "sns.heatmap(mat.T , square=True , annot=True , fmt = 'd' , cbar=False)\n",
    "plt.title('CONFUSSION MATRIX')\n",
    "plt.xlabel('True Class')\n",
    "plt.ylabel('Predicted Class')"
   ]
  },
  {
   "cell_type": "code",
   "execution_count": 114,
   "id": "c17dfdf0",
   "metadata": {},
   "outputs": [
    {
     "data": {
      "text/plain": [
       "(480, 12)"
      ]
     },
     "execution_count": 114,
     "metadata": {},
     "output_type": "execute_result"
    }
   ],
   "source": [
    "mydata.shape"
   ]
  },
  {
   "cell_type": "code",
   "execution_count": 115,
   "id": "74cd1b6f",
   "metadata": {},
   "outputs": [
    {
     "data": {
      "text/html": [
       "<div>\n",
       "<style scoped>\n",
       "    .dataframe tbody tr th:only-of-type {\n",
       "        vertical-align: middle;\n",
       "    }\n",
       "\n",
       "    .dataframe tbody tr th {\n",
       "        vertical-align: top;\n",
       "    }\n",
       "\n",
       "    .dataframe thead th {\n",
       "        text-align: right;\n",
       "    }\n",
       "</style>\n",
       "<table border=\"1\" class=\"dataframe\">\n",
       "  <thead>\n",
       "    <tr style=\"text-align: right;\">\n",
       "      <th></th>\n",
       "      <th>Gender</th>\n",
       "      <th>Married</th>\n",
       "      <th>Dependents</th>\n",
       "      <th>Education</th>\n",
       "      <th>Self_Employed</th>\n",
       "      <th>ApplicantIncome</th>\n",
       "      <th>CoapplicantIncome</th>\n",
       "      <th>LoanAmount</th>\n",
       "      <th>Loan_Amount_Term</th>\n",
       "      <th>Credit_History</th>\n",
       "      <th>Property_Area</th>\n",
       "      <th>Loan_Status</th>\n",
       "    </tr>\n",
       "  </thead>\n",
       "  <tbody>\n",
       "    <tr>\n",
       "      <th>1</th>\n",
       "      <td>1</td>\n",
       "      <td>1</td>\n",
       "      <td>1</td>\n",
       "      <td>1</td>\n",
       "      <td>0</td>\n",
       "      <td>4583</td>\n",
       "      <td>1508.0</td>\n",
       "      <td>128.0</td>\n",
       "      <td>360.0</td>\n",
       "      <td>1.0</td>\n",
       "      <td>0</td>\n",
       "      <td>0</td>\n",
       "    </tr>\n",
       "    <tr>\n",
       "      <th>2</th>\n",
       "      <td>1</td>\n",
       "      <td>1</td>\n",
       "      <td>0</td>\n",
       "      <td>1</td>\n",
       "      <td>1</td>\n",
       "      <td>3000</td>\n",
       "      <td>0.0</td>\n",
       "      <td>66.0</td>\n",
       "      <td>360.0</td>\n",
       "      <td>1.0</td>\n",
       "      <td>2</td>\n",
       "      <td>1</td>\n",
       "    </tr>\n",
       "    <tr>\n",
       "      <th>3</th>\n",
       "      <td>1</td>\n",
       "      <td>1</td>\n",
       "      <td>0</td>\n",
       "      <td>0</td>\n",
       "      <td>0</td>\n",
       "      <td>2583</td>\n",
       "      <td>2358.0</td>\n",
       "      <td>120.0</td>\n",
       "      <td>360.0</td>\n",
       "      <td>1.0</td>\n",
       "      <td>2</td>\n",
       "      <td>1</td>\n",
       "    </tr>\n",
       "    <tr>\n",
       "      <th>4</th>\n",
       "      <td>1</td>\n",
       "      <td>0</td>\n",
       "      <td>0</td>\n",
       "      <td>1</td>\n",
       "      <td>0</td>\n",
       "      <td>6000</td>\n",
       "      <td>0.0</td>\n",
       "      <td>141.0</td>\n",
       "      <td>360.0</td>\n",
       "      <td>1.0</td>\n",
       "      <td>2</td>\n",
       "      <td>1</td>\n",
       "    </tr>\n",
       "    <tr>\n",
       "      <th>5</th>\n",
       "      <td>1</td>\n",
       "      <td>1</td>\n",
       "      <td>2</td>\n",
       "      <td>1</td>\n",
       "      <td>1</td>\n",
       "      <td>5417</td>\n",
       "      <td>4196.0</td>\n",
       "      <td>267.0</td>\n",
       "      <td>360.0</td>\n",
       "      <td>1.0</td>\n",
       "      <td>2</td>\n",
       "      <td>1</td>\n",
       "    </tr>\n",
       "  </tbody>\n",
       "</table>\n",
       "</div>"
      ],
      "text/plain": [
       "   Gender  Married Dependents  Education  Self_Employed  ApplicantIncome  \\\n",
       "1       1        1          1          1              0             4583   \n",
       "2       1        1          0          1              1             3000   \n",
       "3       1        1          0          0              0             2583   \n",
       "4       1        0          0          1              0             6000   \n",
       "5       1        1          2          1              1             5417   \n",
       "\n",
       "   CoapplicantIncome  LoanAmount  Loan_Amount_Term  Credit_History  \\\n",
       "1             1508.0       128.0             360.0             1.0   \n",
       "2                0.0        66.0             360.0             1.0   \n",
       "3             2358.0       120.0             360.0             1.0   \n",
       "4                0.0       141.0             360.0             1.0   \n",
       "5             4196.0       267.0             360.0             1.0   \n",
       "\n",
       "   Property_Area  Loan_Status  \n",
       "1              0            0  \n",
       "2              2            1  \n",
       "3              2            1  \n",
       "4              2            1  \n",
       "5              2            1  "
      ]
     },
     "execution_count": 115,
     "metadata": {},
     "output_type": "execute_result"
    }
   ],
   "source": [
    "mydata.head()"
   ]
  },
  {
   "cell_type": "markdown",
   "id": "025ca41f",
   "metadata": {},
   "source": [
    "# Prediction"
   ]
  },
  {
   "cell_type": "markdown",
   "id": "61bb5520",
   "metadata": {},
   "source": [
    "SVM"
   ]
  },
  {
   "cell_type": "code",
   "execution_count": 116,
   "id": "a8319775",
   "metadata": {},
   "outputs": [
    {
     "name": "stdout",
     "output_type": "stream",
     "text": [
      "[1]\n",
      "Loan is allowed\n"
     ]
    }
   ],
   "source": [
    "input_data_to_predict= (1,0,3,1,0,7000,0.0,300,360.0,1.0,0 ,1)\n",
    "np_input_data = np.asarray(input_data_to_predict)\n",
    "reshaped_data = np_input_data.reshape(1,-1)\n",
    "predictionss = model.predict(reshaped_data)\n",
    "print(predictionss)\n",
    "\n",
    "if predictionss == 0:\n",
    "    print('Loan is not allowed')\n",
    "else:\n",
    "    print('Loan is allowed')\n"
   ]
  },
  {
   "cell_type": "markdown",
   "id": "dd91f457",
   "metadata": {},
   "source": [
    "Logistic Regression"
   ]
  },
  {
   "cell_type": "code",
   "execution_count": 117,
   "id": "e56b79f1",
   "metadata": {},
   "outputs": [
    {
     "name": "stdout",
     "output_type": "stream",
     "text": [
      "[0]\n",
      "Loan is not allowed\n"
     ]
    }
   ],
   "source": [
    "input_data_to_predict= (1,0,3,1,0,7000,0.0,300,360.0,1.0,0 ,1)\n",
    "np_input_data = np.asarray(input_data_to_predict)\n",
    "reshaped_data = np_input_data.reshape(1,-1)\n",
    "predictionss = model_log.predict(reshaped_data)\n",
    "print(predictionss)\n",
    "\n",
    "if predictionss == 0:\n",
    "    print('Loan is not allowed')\n",
    "else:\n",
    "    print('Loan is allowed')\n"
   ]
  },
  {
   "cell_type": "markdown",
   "id": "37b94eba",
   "metadata": {},
   "source": [
    "Decision Tree"
   ]
  },
  {
   "cell_type": "code",
   "execution_count": 132,
   "id": "4e021564",
   "metadata": {},
   "outputs": [
    {
     "name": "stdout",
     "output_type": "stream",
     "text": [
      "[1]\n",
      "Loan is allowed\n"
     ]
    }
   ],
   "source": [
    "input_data_to_predict= (1,0,3,1,0,7000,0.0,300,360.0,1.0,0 ,1)\n",
    "np_input_data = np.asarray(input_data_to_predict)\n",
    "reshaped_data = np_input_data.reshape(1,-1)\n",
    "predictionss = model_tree.predict(reshaped_data)\n",
    "print(predictionss)\n",
    "\n",
    "if predictionss == 0:\n",
    "    print('Loan is not allowed')\n",
    "else:\n",
    "    print('Loan is allowed')\n"
   ]
  },
  {
   "cell_type": "markdown",
   "id": "37eb1862",
   "metadata": {},
   "source": [
    "# SVM Classifier Performance"
   ]
  },
  {
   "cell_type": "code",
   "execution_count": 121,
   "id": "e1aeaadf",
   "metadata": {},
   "outputs": [],
   "source": [
    "accuracy_SVM = metrics.accuracy_score(testing_prediction_SVM , Y_test)"
   ]
  },
  {
   "cell_type": "code",
   "execution_count": 123,
   "id": "92d482ba",
   "metadata": {},
   "outputs": [],
   "source": [
    "precision_SVM = metrics.precision_score(testing_prediction_SVM , Y_test)"
   ]
  },
  {
   "cell_type": "code",
   "execution_count": 124,
   "id": "702f6541",
   "metadata": {},
   "outputs": [],
   "source": [
    "recall_SVM = metrics.recall_score(testing_prediction_SVM , Y_test)"
   ]
  },
  {
   "cell_type": "code",
   "execution_count": 128,
   "id": "b1d9864e",
   "metadata": {},
   "outputs": [],
   "source": [
    "specificity_SVM = metrics.recall_score(testing_prediction_SVM , Y_test)"
   ]
  },
  {
   "cell_type": "code",
   "execution_count": 130,
   "id": "9d8ecde6",
   "metadata": {},
   "outputs": [],
   "source": [
    "cm1 = confusion_matrix(testing_prediction_SVM , Y_test)\n",
    "sensitivity_SVM  = cm1[0,0]/(cm1[0,0]+cm1[0,1])"
   ]
  },
  {
   "cell_type": "code",
   "execution_count": 127,
   "id": "f2fa799c",
   "metadata": {},
   "outputs": [],
   "source": [
    "F1_score_SVM = metrics.f1_score(testing_prediction_SVM , Y_test)"
   ]
  },
  {
   "cell_type": "markdown",
   "id": "e06dcd68",
   "metadata": {},
   "source": [
    "f(0.5)"
   ]
  },
  {
   "cell_type": "code",
   "execution_count": 198,
   "id": "9626fd30",
   "metadata": {},
   "outputs": [],
   "source": [
    "from sklearn.metrics import fbeta_score\n",
    "sc1_svm = np.asarray(fbeta_score(testing_prediction_SVM , Y_test, average='macro', beta=0.5))\n",
    "sc2_svm = np.asarray(fbeta_score(testing_prediction_SVM , Y_test, average='weighted', beta=0.5))\n",
    "sc3_svm = np.asarray(fbeta_score(testing_prediction_SVM , Y_test, average='micro', beta=0.5))\n",
    "ad_05_svm = np.add(sc1_svm , sc2_svm , sc3_svm)\n",
    "avg_svm_05= ad/3"
   ]
  },
  {
   "cell_type": "markdown",
   "id": "c93c6230",
   "metadata": {},
   "source": [
    "f2"
   ]
  },
  {
   "cell_type": "code",
   "execution_count": 204,
   "id": "eee7b312",
   "metadata": {},
   "outputs": [],
   "source": [
    "from sklearn.metrics import fbeta_score\n",
    "sc11_svm = np.asarray(fbeta_score(testing_prediction_SVM , Y_test, average='macro', beta=2))\n",
    "sc22_svm = np.asarray(fbeta_score(testing_prediction_SVM , Y_test, average='weighted', beta=2))\n",
    "sc33_svm = np.asarray(fbeta_score(testing_prediction_SVM , Y_test, average='micro', beta=2))\n",
    "ad_2_svm = np.add(sc11_svm , sc22_svm , sc33_svm)\n",
    "avg_svm_f2= ad/3"
   ]
  },
  {
   "cell_type": "code",
   "execution_count": 205,
   "id": "9653887c",
   "metadata": {},
   "outputs": [
    {
     "name": "stdout",
     "output_type": "stream",
     "text": [
      "Accuracy on SVM model :  0.6875\n",
      "Precision on SVM model :  0.967741935483871\n",
      "recall on SVM model :  0.6818181818181818\n",
      "Specificty on SVM model :  0.6818181818181818\n",
      "Sensitivity on SVM model :  0.75\n",
      "F0.5_score on SVM model :  0.6666666666666666\n",
      "F1_score on SVM model :  0.8\n",
      "F2_score on SVM model :  0.6666666666666666\n"
     ]
    }
   ],
   "source": [
    "print(\"Accuracy on SVM model : \" , accuracy_SVM)\n",
    "print(\"Precision on SVM model : \" , precision_SVM)\n",
    "print(\"recall on SVM model : \" , recall_SVM)\n",
    "print(\"Specificty on SVM model : \" , specificity_SVM)\n",
    "print(\"Sensitivity on SVM model : \" , sensitivity_SVM)\n",
    "print(\"F0.5_score on SVM model : \" , avg_svm_05)\n",
    "print(\"F1_score on SVM model : \" , F1_score_SVM)\n",
    "print(\"F2_score on SVM model : \" , avg_svm_f2)"
   ]
  },
  {
   "cell_type": "markdown",
   "id": "16ef0181",
   "metadata": {},
   "source": [
    "# Logistic Regression Classifier Performance"
   ]
  },
  {
   "cell_type": "code",
   "execution_count": 206,
   "id": "defdf13f",
   "metadata": {},
   "outputs": [],
   "source": [
    "accuracy_log = metrics.accuracy_score(testing_prediction_log , Y_test )"
   ]
  },
  {
   "cell_type": "code",
   "execution_count": 207,
   "id": "e8c36994",
   "metadata": {},
   "outputs": [],
   "source": [
    "precision_log = metrics.precision_score(testing_prediction_log , Y_test)"
   ]
  },
  {
   "cell_type": "code",
   "execution_count": 135,
   "id": "b3c36b7a",
   "metadata": {},
   "outputs": [],
   "source": [
    "recall_log = metrics.recall_score(testing_prediction_log , Y_test)"
   ]
  },
  {
   "cell_type": "code",
   "execution_count": 136,
   "id": "362b4358",
   "metadata": {},
   "outputs": [],
   "source": [
    "specificity_log = metrics.recall_score(testing_prediction_log , Y_test)"
   ]
  },
  {
   "cell_type": "code",
   "execution_count": 137,
   "id": "2e4f5ba2",
   "metadata": {},
   "outputs": [],
   "source": [
    "cm2 = confusion_matrix(testing_prediction_log , Y_test)\n",
    "sensitivity_log  = cm2[0,0]/(cm2[0,0]+cm2[0,1])"
   ]
  },
  {
   "cell_type": "code",
   "execution_count": 138,
   "id": "8d7a8dd4",
   "metadata": {},
   "outputs": [],
   "source": [
    "F1_score_log = metrics.f1_score(testing_prediction_log , Y_test)"
   ]
  },
  {
   "cell_type": "markdown",
   "id": "aad97d9c",
   "metadata": {},
   "source": [
    "f(0.5)"
   ]
  },
  {
   "cell_type": "code",
   "execution_count": 191,
   "id": "76f7e52b",
   "metadata": {},
   "outputs": [],
   "source": [
    "from sklearn.metrics import fbeta_score\n",
    "sc1_log = np.asarray(fbeta_score(testing_prediction_log , Y_test, average='macro', beta=0.5))\n",
    "sc2_log = np.asarray(fbeta_score(testing_prediction_log , Y_test, average='weighted', beta=0.5))\n",
    "sc3_log = np.asarray(fbeta_score(testing_prediction_log , Y_test, average='micro', beta=0.5))\n",
    "ad_05_log = np.add(sc1_log , sc2_log , sc3_log)\n",
    "avg_log_05= ad/3"
   ]
  },
  {
   "cell_type": "markdown",
   "id": "b929688d",
   "metadata": {},
   "source": [
    "f2"
   ]
  },
  {
   "cell_type": "code",
   "execution_count": 194,
   "id": "37923f63",
   "metadata": {},
   "outputs": [],
   "source": [
    "from sklearn.metrics import fbeta_score\n",
    "sc11_log = np.asarray(fbeta_score(testing_prediction_log , Y_test, average='macro', beta=2))\n",
    "sc22_log = np.asarray(fbeta_score(testing_prediction_log , Y_test, average='weighted', beta=2))\n",
    "sc33_log = np.asarray(fbeta_score(testing_prediction_log , Y_test, average='micro', beta=2))\n",
    "ad_f2_log = np.add(sc11_log , sc22_log , sc33_log)\n",
    "avg_log_f2= ad/3"
   ]
  },
  {
   "cell_type": "code",
   "execution_count": 195,
   "id": "0da9e8b6",
   "metadata": {},
   "outputs": [
    {
     "name": "stdout",
     "output_type": "stream",
     "text": [
      "Accuracy on Logistic regression model :  0.5833333333333334\n",
      "Precision on Logistic regression model :  0.7419354838709677\n",
      "recall on Logistic regression model :  0.6571428571428571\n",
      "Specificty on Logistic regression model :  0.6571428571428571\n",
      "Sensitivity on Logistic regression model :  0.38461538461538464\n",
      "F0.5_score on Logistic regression model :  0.6666666666666666\n",
      "F1_score on Logistic regression model :  0.6969696969696969\n",
      "F2_score on Logistic regression model :  0.6666666666666666\n"
     ]
    }
   ],
   "source": [
    "print(\"Accuracy on Logistic regression model : \" , accuracy_log)\n",
    "print(\"Precision on Logistic regression model : \" , precision_log)\n",
    "print(\"recall on Logistic regression model : \" , recall_log)\n",
    "print(\"Specificty on Logistic regression model : \" , specificity_log)\n",
    "print(\"Sensitivity on Logistic regression model : \" , sensitivity_log)\n",
    "print(\"F0.5_score on Logistic regression model : \" , avg_log_05)\n",
    "print(\"F1_score on Logistic regression model : \" , F1_score_log)\n",
    "print(\"F2_score on Logistic regression model : \" , avg_log_f2)"
   ]
  },
  {
   "cell_type": "markdown",
   "id": "fdf0357d",
   "metadata": {},
   "source": [
    "# Decision Tree Classifier Performance"
   ]
  },
  {
   "cell_type": "code",
   "execution_count": 141,
   "id": "354117a9",
   "metadata": {},
   "outputs": [],
   "source": [
    "accuracy_tree = metrics.accuracy_score(testing_prediction_tree , Y_test)"
   ]
  },
  {
   "cell_type": "code",
   "execution_count": 142,
   "id": "7989bf5b",
   "metadata": {},
   "outputs": [],
   "source": [
    "precision_tree = metrics.precision_score(testing_prediction_tree , Y_test)"
   ]
  },
  {
   "cell_type": "code",
   "execution_count": 143,
   "id": "6b1ed7de",
   "metadata": {},
   "outputs": [],
   "source": [
    "recall_tree = metrics.recall_score(testing_prediction_tree , Y_test)"
   ]
  },
  {
   "cell_type": "code",
   "execution_count": 144,
   "id": "ff4d0b2a",
   "metadata": {},
   "outputs": [],
   "source": [
    "specificity_tree = metrics.recall_score(testing_prediction_tree , Y_test)"
   ]
  },
  {
   "cell_type": "code",
   "execution_count": 145,
   "id": "b05228ad",
   "metadata": {},
   "outputs": [],
   "source": [
    "cm3 = confusion_matrix(testing_prediction_tree , Y_test)\n",
    "sensitivity_tree  = cm3[0,0]/(cm3[0,0]+cm3[0,1])"
   ]
  },
  {
   "cell_type": "code",
   "execution_count": 170,
   "id": "1d1d07a3",
   "metadata": {},
   "outputs": [],
   "source": [
    "F1_score_tree = metrics.f1_score(testing_prediction_tree , Y_test)"
   ]
  },
  {
   "cell_type": "markdown",
   "id": "a9281c15",
   "metadata": {},
   "source": [
    "f(0.5)"
   ]
  },
  {
   "cell_type": "code",
   "execution_count": 185,
   "id": "53ca71c7",
   "metadata": {},
   "outputs": [],
   "source": [
    "from sklearn.metrics import fbeta_score\n",
    "sc1 = np.asarray(fbeta_score(testing_prediction_tree , Y_test, average='macro', beta=0.5))\n",
    "sc2 = np.asarray(fbeta_score(testing_prediction_tree , Y_test, average='weighted', beta=0.5))\n",
    "sc3 = np.asarray(fbeta_score(testing_prediction_tree , Y_test, average='micro', beta=0.5))\n",
    "ad_05 = np.add(sc1 , sc2 , sc3)\n",
    "avg_tree_05= ad/3"
   ]
  },
  {
   "cell_type": "markdown",
   "id": "d6e17868",
   "metadata": {},
   "source": [
    "f2"
   ]
  },
  {
   "cell_type": "code",
   "execution_count": 188,
   "id": "aedf3367",
   "metadata": {},
   "outputs": [],
   "source": [
    "from sklearn.metrics import fbeta_score\n",
    "sc11 = np.asarray(fbeta_score(testing_prediction_tree , Y_test, average='macro', beta=2))\n",
    "sc22 = np.asarray(fbeta_score(testing_prediction_tree , Y_test, average='weighted', beta=2))\n",
    "sc33 = np.asarray(fbeta_score(testing_prediction_tree , Y_test, average='micro', beta=2))\n",
    "ad_f2 = np.add(sc11 , sc22 , sc33)\n",
    "avg_tree_f2= ad/3"
   ]
  },
  {
   "cell_type": "code",
   "execution_count": 189,
   "id": "0dce1723",
   "metadata": {},
   "outputs": [
    {
     "name": "stdout",
     "output_type": "stream",
     "text": [
      "Accuracy on Decision Tree model :  1.0\n",
      "Precision on Decision Tree model :  1.0\n",
      "recall on Decision Tree model :  1.0\n",
      "Specificty on Decision Tree model :  1.0\n",
      "Sensitivity on Decision Tree model :  1.0\n",
      "F0.5_score on Decision Tree model :  0.6666666666666666\n",
      "F1_score on Decision Tree model :  1.0\n",
      "F2_score on Decision Tree model :  0.6666666666666666\n"
     ]
    }
   ],
   "source": [
    "print(\"Accuracy on Decision Tree model : \" , accuracy_tree)\n",
    "print(\"Precision on Decision Tree model : \" , precision_tree)\n",
    "print(\"recall on Decision Tree model : \" , recall_tree)\n",
    "print(\"Specificty on Decision Tree model : \" , specificity_tree)\n",
    "print(\"Sensitivity on Decision Tree model : \" , sensitivity_tree)\n",
    "print(\"F0.5_score on Decision Tree model : \" , avg_tree_05)\n",
    "print(\"F1_score on Decision Tree model : \" , F1_score_tree)\n",
    "print(\"F2_score on Decision Tree model : \" , avg_tree_f2)"
   ]
  },
  {
   "cell_type": "markdown",
   "id": "665c7b99",
   "metadata": {},
   "source": [
    "# LineGraph"
   ]
  },
  {
   "cell_type": "code",
   "execution_count": 161,
   "id": "2ff4ebd2",
   "metadata": {},
   "outputs": [],
   "source": [
    "lr_probas = LogisticRegression().fit(X_train , Y_train).predict_proba(X_test)\n",
    "rf_probas = DecisionTreeClassifier().fit(X_train , Y_train).predict_proba(X_test)\n",
    "gb_probas = RandomForestClassifier().fit(X_train , Y_train).predict_proba(X_test)\n",
    "\n",
    "probas_list = [lr_probas, rf_probas, gb_probas]\n",
    "clf_names = ['Logistic Regression', 'Decision Trees', 'SVM']"
   ]
  },
  {
   "cell_type": "code",
   "execution_count": 169,
   "id": "5f53d97c",
   "metadata": {},
   "outputs": [
    {
     "data": {
      "image/png": "[encoded data removed]",
      "text/plain": [
       "<Figure size 864x432 with 1 Axes>"
      ]
     },
     "metadata": {
      "needs_background": "light"
     },
     "output_type": "display_data"
    }
   ],
   "source": [
    "skplt.metrics.plot_calibration_curve(Y_test,\n",
    "                                     probas_list,\n",
    "                                     clf_names, n_bins=15,\n",
    "                                     figsize=(12,6)\n",
    "                                     );"
   ]
  },
  {
   "cell_type": "code",
   "execution_count": null,
   "id": "6b60df23",
   "metadata": {},
   "outputs": [],
   "source": []
  }
 ],
 "metadata": {
  "kernelspec": {
   "display_name": "Python 3 (ipykernel)",
   "language": "python",
   "name": "python3"
  },
  "language_info": {
   "codemirror_mode": {
    "name": "ipython",
    "version": 3
   },
   "file_extension": ".py",
   "mimetype": "text/x-python",
   "name": "python",
   "nbconvert_exporter": "python",
   "pygments_lexer": "ipython3",
   "version": "3.9.12"
  }
 },
 "nbformat": 4,
 "nbformat_minor": 5
}
